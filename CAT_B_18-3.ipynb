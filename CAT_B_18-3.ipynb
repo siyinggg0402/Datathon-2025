{
  "cells": [
    {
      "cell_type": "code",
      "execution_count": null,
      "metadata": {
        "colab": {
          "base_uri": "https://localhost:8080/"
        },
        "collapsed": true,
        "id": "fAi_ivR9t3-w",
        "outputId": "02982adf-53a8-4711-913c-ef606d6e7505"
      },
      "outputs": [
        {
          "output_type": "stream",
          "name": "stdout",
          "text": [
            "Package                            Version\n",
            "---------------------------------- -------------------\n",
            "absl-py                            1.4.0\n",
            "accelerate                         1.2.1\n",
            "aiohappyeyeballs                   2.4.4\n",
            "aiohttp                            3.11.11\n",
            "aiosignal                          1.3.2\n",
            "alabaster                          1.0.0\n",
            "albucore                           0.0.19\n",
            "albumentations                     1.4.20\n",
            "ale-py                             0.10.1\n",
            "altair                             5.5.0\n",
            "annotated-types                    0.7.0\n",
            "anyio                              3.7.1\n",
            "argon2-cffi                        23.1.0\n",
            "argon2-cffi-bindings               21.2.0\n",
            "array_record                       0.6.0\n",
            "arviz                              0.20.0\n",
            "astropy                            6.1.7\n",
            "astropy-iers-data                  0.2025.1.27.0.32.44\n",
            "astunparse                         1.6.3\n",
            "atpublic                           4.1.0\n",
            "attrs                              25.1.0\n",
            "audioread                          3.0.1\n",
            "autograd                           1.7.0\n",
            "babel                              2.16.0\n",
            "backcall                           0.2.0\n",
            "beautifulsoup4                     4.12.3\n",
            "bigframes                          1.34.0\n",
            "bigquery-magics                    0.5.0\n",
            "bleach                             6.2.0\n",
            "blinker                            1.9.0\n",
            "blis                               0.7.11\n",
            "blosc2                             3.0.0\n",
            "bokeh                              3.6.2\n",
            "Bottleneck                         1.4.2\n",
            "bqplot                             0.12.44\n",
            "branca                             0.8.1\n",
            "CacheControl                       0.14.2\n",
            "cachetools                         5.5.1\n",
            "catalogue                          2.0.10\n",
            "certifi                            2024.12.14\n",
            "cffi                               1.17.1\n",
            "chardet                            5.2.0\n",
            "charset-normalizer                 3.4.1\n",
            "chex                               0.1.88\n",
            "clarabel                           0.9.0\n",
            "click                              8.1.8\n",
            "cloudpathlib                       0.20.0\n",
            "cloudpickle                        3.1.1\n",
            "cmake                              3.31.4\n",
            "cmdstanpy                          1.2.5\n",
            "colorcet                           3.1.0\n",
            "colorlover                         0.3.0\n",
            "colour                             0.1.5\n",
            "community                          1.0.0b1\n",
            "confection                         0.1.5\n",
            "cons                               0.4.6\n",
            "contourpy                          1.3.1\n",
            "cramjam                            2.9.1\n",
            "cryptography                       43.0.3\n",
            "cuda-python                        12.6.0\n",
            "cudf-cu12                          24.12.0\n",
            "cufflinks                          0.17.3\n",
            "cupy-cuda12x                       13.3.0\n",
            "cvxopt                             1.3.2\n",
            "cvxpy                              1.6.0\n",
            "cycler                             0.12.1\n",
            "cyipopt                            1.5.0\n",
            "cymem                              2.0.11\n",
            "Cython                             3.0.11\n",
            "dask                               2024.10.0\n",
            "datascience                        0.17.6\n",
            "db-dtypes                          1.4.0\n",
            "dbus-python                        1.2.18\n",
            "debugpy                            1.8.0\n",
            "decorator                          4.4.2\n",
            "defusedxml                         0.7.1\n",
            "Deprecated                         1.2.18\n",
            "diffusers                          0.32.2\n",
            "distro                             1.9.0\n",
            "dlib                               19.24.2\n",
            "dm-tree                            0.1.8\n",
            "docker-pycreds                     0.4.0\n",
            "docstring_parser                   0.16\n",
            "docutils                           0.21.2\n",
            "dopamine_rl                        4.1.2\n",
            "duckdb                             1.1.3\n",
            "earthengine-api                    1.4.6\n",
            "easydict                           1.13\n",
            "editdistance                       0.8.1\n",
            "eerepr                             0.1.0\n",
            "einops                             0.8.0\n",
            "en-core-web-sm                     3.7.1\n",
            "entrypoints                        0.4\n",
            "et_xmlfile                         2.0.0\n",
            "etils                              1.11.0\n",
            "etuples                            0.3.9\n",
            "eval_type_backport                 0.2.2\n",
            "Farama-Notifications               0.0.4\n",
            "fastai                             2.7.18\n",
            "fastcore                           1.7.28\n",
            "fastdownload                       0.0.7\n",
            "fastjsonschema                     2.21.1\n",
            "fastprogress                       1.0.3\n",
            "fastrlock                          0.8.3\n",
            "filelock                           3.17.0\n",
            "firebase-admin                     6.6.0\n",
            "Flask                              3.1.0\n",
            "flatbuffers                        25.1.24\n",
            "flax                               0.10.2\n",
            "folium                             0.19.4\n",
            "fonttools                          4.55.7\n",
            "frozendict                         2.4.6\n",
            "frozenlist                         1.5.0\n",
            "fsspec                             2024.10.0\n",
            "future                             1.0.0\n",
            "gast                               0.6.0\n",
            "gcsfs                              2024.10.0\n",
            "GDAL                               3.6.4\n",
            "gdown                              5.2.0\n",
            "geemap                             0.35.1\n",
            "gensim                             4.3.3\n",
            "geocoder                           1.38.1\n",
            "geographiclib                      2.0\n",
            "geopandas                          1.0.1\n",
            "geopy                              2.4.1\n",
            "gin-config                         0.5.0\n",
            "gitdb                              4.0.12\n",
            "GitPython                          3.1.44\n",
            "glob2                              0.7\n",
            "google                             2.0.3\n",
            "google-ai-generativelanguage       0.6.15\n",
            "google-api-core                    2.19.2\n",
            "google-api-python-client           2.155.0\n",
            "google-auth                        2.27.0\n",
            "google-auth-httplib2               0.2.0\n",
            "google-auth-oauthlib               1.2.1\n",
            "google-cloud-aiplatform            1.74.0\n",
            "google-cloud-bigquery              3.25.0\n",
            "google-cloud-bigquery-connection   1.17.0\n",
            "google-cloud-bigquery-storage      2.27.0\n",
            "google-cloud-bigtable              2.28.1\n",
            "google-cloud-core                  2.4.1\n",
            "google-cloud-datastore             2.20.2\n",
            "google-cloud-firestore             2.19.0\n",
            "google-cloud-functions             1.19.0\n",
            "google-cloud-iam                   2.17.0\n",
            "google-cloud-language              2.16.0\n",
            "google-cloud-pubsub                2.25.0\n",
            "google-cloud-resource-manager      1.14.0\n",
            "google-cloud-spanner               3.51.0\n",
            "google-cloud-storage               2.19.0\n",
            "google-cloud-translate             3.19.0\n",
            "google-colab                       1.0.0\n",
            "google-crc32c                      1.6.0\n",
            "google-genai                       0.3.0\n",
            "google-generativeai                0.8.4\n",
            "google-pasta                       0.2.0\n",
            "google-resumable-media             2.7.2\n",
            "googleapis-common-protos           1.66.0\n",
            "googledrivedownloader              0.4\n",
            "graphviz                           0.20.3\n",
            "greenlet                           3.1.1\n",
            "grpc-google-iam-v1                 0.14.0\n",
            "grpc-interceptor                   0.15.4\n",
            "grpcio                             1.70.0\n",
            "grpcio-status                      1.62.3\n",
            "gspread                            6.1.4\n",
            "gspread-dataframe                  4.0.0\n",
            "gym                                0.25.2\n",
            "gym-notices                        0.0.8\n",
            "gymnasium                          1.0.0\n",
            "h11                                0.14.0\n",
            "h5netcdf                           1.5.0\n",
            "h5py                               3.12.1\n",
            "highspy                            1.9.0\n",
            "holidays                           0.65\n",
            "holoviews                          1.20.0\n",
            "html5lib                           1.1\n",
            "httpcore                           1.0.7\n",
            "httpimport                         1.4.0\n",
            "httplib2                           0.22.0\n",
            "httpx                              0.28.1\n",
            "huggingface-hub                    0.27.1\n",
            "humanize                           4.11.0\n",
            "hyperopt                           0.2.7\n",
            "ibis-framework                     9.2.0\n",
            "idna                               3.10\n",
            "imageio                            2.36.1\n",
            "imageio-ffmpeg                     0.6.0\n",
            "imagesize                          1.4.1\n",
            "imbalanced-learn                   0.13.0\n",
            "imgaug                             0.4.0\n",
            "immutabledict                      4.2.1\n",
            "importlib_metadata                 8.6.1\n",
            "importlib_resources                6.5.2\n",
            "imutils                            0.5.4\n",
            "inflect                            7.5.0\n",
            "iniconfig                          2.0.0\n",
            "intel-cmplr-lib-ur                 2025.0.4\n",
            "intel-openmp                       2025.0.4\n",
            "ipyevents                          2.0.2\n",
            "ipyfilechooser                     0.6.0\n",
            "ipykernel                          5.5.6\n",
            "ipyleaflet                         0.19.2\n",
            "ipyparallel                        8.8.0\n",
            "ipython                            7.34.0\n",
            "ipython-genutils                   0.2.0\n",
            "ipython-sql                        0.5.0\n",
            "ipytree                            0.2.2\n",
            "ipywidgets                         7.7.1\n",
            "itsdangerous                       2.2.0\n",
            "jax                                0.4.33\n",
            "jax-cuda12-pjrt                    0.4.33\n",
            "jax-cuda12-plugin                  0.4.33\n",
            "jaxlib                             0.4.33\n",
            "jeepney                            0.7.1\n",
            "jellyfish                          1.1.0\n",
            "jieba                              0.42.1\n",
            "Jinja2                             3.1.5\n",
            "jiter                              0.8.2\n",
            "joblib                             1.4.2\n",
            "jsonpatch                          1.33\n",
            "jsonpickle                         4.0.1\n",
            "jsonpointer                        3.0.0\n",
            "jsonschema                         4.23.0\n",
            "jsonschema-specifications          2024.10.1\n",
            "jupyter-client                     6.1.12\n",
            "jupyter-console                    6.1.0\n",
            "jupyter_core                       5.7.2\n",
            "jupyter-leaflet                    0.19.2\n",
            "jupyter-server                     1.24.0\n",
            "jupyterlab_pygments                0.3.0\n",
            "jupyterlab_widgets                 3.0.13\n",
            "kaggle                             1.6.17\n",
            "kagglehub                          0.3.6\n",
            "keras                              3.8.0\n",
            "keras-hub                          0.18.1\n",
            "keras-nlp                          0.18.1\n",
            "keyring                            23.5.0\n",
            "kiwisolver                         1.4.8\n",
            "langchain                          0.3.16\n",
            "langchain-core                     0.3.32\n",
            "langchain-text-splitters           0.3.5\n",
            "langcodes                          3.5.0\n",
            "langsmith                          0.3.2\n",
            "language_data                      1.3.0\n",
            "launchpadlib                       1.10.16\n",
            "lazr.restfulclient                 0.14.4\n",
            "lazr.uri                           1.0.6\n",
            "lazy_loader                        0.4\n",
            "libclang                           18.1.1\n",
            "libcudf-cu12                       24.12.0\n",
            "libkvikio-cu12                     24.12.1\n",
            "librosa                            0.10.2.post1\n",
            "lightgbm                           4.5.0\n",
            "linkify-it-py                      2.0.3\n",
            "llvmlite                           0.43.0\n",
            "locket                             1.0.0\n",
            "logical-unification                0.4.6\n",
            "lxml                               5.3.0\n",
            "marisa-trie                        1.2.1\n",
            "Markdown                           3.7\n",
            "markdown-it-py                     3.0.0\n",
            "MarkupSafe                         3.0.2\n",
            "matplotlib                         3.10.0\n",
            "matplotlib-inline                  0.1.7\n",
            "matplotlib-venn                    1.1.1\n",
            "mdit-py-plugins                    0.4.2\n",
            "mdurl                              0.1.2\n",
            "miniKanren                         1.0.3\n",
            "missingno                          0.5.2\n",
            "mistune                            3.1.1\n",
            "mizani                             0.13.1\n",
            "mkl                                2025.0.1\n",
            "ml-dtypes                          0.4.1\n",
            "mlxtend                            0.23.4\n",
            "more-itertools                     10.5.0\n",
            "moviepy                            1.0.3\n",
            "mpmath                             1.3.0\n",
            "msgpack                            1.1.0\n",
            "multidict                          6.1.0\n",
            "multipledispatch                   1.0.0\n",
            "multitasking                       0.0.11\n",
            "murmurhash                         1.0.12\n",
            "music21                            9.3.0\n",
            "namex                              0.0.8\n",
            "narwhals                           1.24.1\n",
            "natsort                            8.4.0\n",
            "nbclassic                          1.2.0\n",
            "nbclient                           0.10.2\n",
            "nbconvert                          7.16.6\n",
            "nbformat                           5.10.4\n",
            "ndindex                            1.9.2\n",
            "nest-asyncio                       1.6.0\n",
            "networkx                           3.4.2\n",
            "nibabel                            5.3.2\n",
            "nltk                               3.9.1\n",
            "notebook                           6.5.5\n",
            "notebook_shim                      0.2.4\n",
            "numba                              0.60.0\n",
            "numba-cuda                         0.0.17.1\n",
            "numexpr                            2.10.2\n",
            "numpy                              1.26.4\n",
            "nvidia-cublas-cu12                 12.5.3.2\n",
            "nvidia-cuda-cupti-cu12             12.5.82\n",
            "nvidia-cuda-nvcc-cu12              12.5.82\n",
            "nvidia-cuda-nvrtc-cu12             12.5.82\n",
            "nvidia-cuda-runtime-cu12           12.5.82\n",
            "nvidia-cudnn-cu12                  9.3.0.75\n",
            "nvidia-cufft-cu12                  11.2.3.61\n",
            "nvidia-curand-cu12                 10.3.6.82\n",
            "nvidia-cusolver-cu12               11.6.3.83\n",
            "nvidia-cusparse-cu12               12.5.1.3\n",
            "nvidia-nccl-cu12                   2.21.5\n",
            "nvidia-nvcomp-cu12                 4.1.0.6\n",
            "nvidia-nvjitlink-cu12              12.5.82\n",
            "nvidia-nvtx-cu12                   12.4.127\n",
            "nvtx                               0.2.10\n",
            "nx-cugraph-cu12                    24.12.0\n",
            "oauth2client                       4.1.3\n",
            "oauthlib                           3.2.2\n",
            "openai                             1.59.9\n",
            "opencv-contrib-python              4.10.0.84\n",
            "opencv-python                      4.10.0.84\n",
            "opencv-python-headless             4.11.0.86\n",
            "openpyxl                           3.1.5\n",
            "opentelemetry-api                  1.16.0\n",
            "opentelemetry-sdk                  1.16.0\n",
            "opentelemetry-semantic-conventions 0.37b0\n",
            "opt_einsum                         3.4.0\n",
            "optax                              0.2.4\n",
            "optree                             0.14.0\n",
            "orbax-checkpoint                   0.6.4\n",
            "orjson                             3.10.15\n",
            "osqp                               0.6.7.post3\n",
            "packaging                          24.2\n",
            "pandas                             2.2.2\n",
            "pandas-datareader                  0.10.0\n",
            "pandas-gbq                         0.26.1\n",
            "pandas-stubs                       2.2.2.240909\n",
            "pandocfilters                      1.5.1\n",
            "panel                              1.6.0\n",
            "param                              2.2.0\n",
            "parso                              0.8.4\n",
            "parsy                              2.1\n",
            "partd                              1.4.2\n",
            "pathlib                            1.0.1\n",
            "patsy                              1.0.1\n",
            "peewee                             3.17.8\n",
            "peft                               0.14.0\n",
            "pexpect                            4.9.0\n",
            "pickleshare                        0.7.5\n",
            "pillow                             11.1.0\n",
            "pip                                24.1.2\n",
            "platformdirs                       4.3.6\n",
            "plotly                             5.24.1\n",
            "plotnine                           0.14.5\n",
            "pluggy                             1.5.0\n",
            "ply                                3.11\n",
            "polars                             1.9.0\n",
            "pooch                              1.8.2\n",
            "portpicker                         1.5.2\n",
            "preshed                            3.0.9\n",
            "prettytable                        3.13.0\n",
            "proglog                            0.1.10\n",
            "progressbar2                       4.5.0\n",
            "prometheus_client                  0.21.1\n",
            "promise                            2.3\n",
            "prompt_toolkit                     3.0.50\n",
            "propcache                          0.2.1\n",
            "prophet                            1.1.6\n",
            "proto-plus                         1.26.0\n",
            "protobuf                           4.25.6\n",
            "psutil                             5.9.5\n",
            "psycopg2                           2.9.10\n",
            "ptyprocess                         0.7.0\n",
            "py-cpuinfo                         9.0.0\n",
            "py4j                               0.10.9.7\n",
            "pyarrow                            17.0.0\n",
            "pyasn1                             0.6.1\n",
            "pyasn1_modules                     0.4.1\n",
            "pycocotools                        2.0.8\n",
            "pycparser                          2.22\n",
            "pydantic                           2.10.6\n",
            "pydantic_core                      2.27.2\n",
            "pydata-google-auth                 1.9.1\n",
            "pydot                              3.0.4\n",
            "pydotplus                          2.0.2\n",
            "PyDrive                            1.3.1\n",
            "PyDrive2                           1.21.3\n",
            "pyerfa                             2.0.1.5\n",
            "pygame                             2.6.1\n",
            "pygit2                             1.16.0\n",
            "Pygments                           2.18.0\n",
            "PyGObject                          3.42.1\n",
            "PyJWT                              2.10.1\n",
            "pylibcudf-cu12                     24.12.0\n",
            "pylibcugraph-cu12                  24.12.0\n",
            "pylibraft-cu12                     24.12.0\n",
            "pymc                               5.19.1\n",
            "pymystem3                          0.2.0\n",
            "pynvjitlink-cu12                   0.5.0\n",
            "pyogrio                            0.10.0\n",
            "Pyomo                              6.8.2\n",
            "PyOpenGL                           3.1.9\n",
            "pyOpenSSL                          24.2.1\n",
            "pyparsing                          3.2.1\n",
            "pyperclip                          1.9.0\n",
            "pyproj                             3.7.0\n",
            "pyshp                              2.3.1\n",
            "PySocks                            1.7.1\n",
            "pyspark                            3.5.4\n",
            "pytensor                           2.26.4\n",
            "pytest                             8.3.4\n",
            "python-apt                         0.0.0\n",
            "python-box                         7.3.2\n",
            "python-dateutil                    2.8.2\n",
            "python-louvain                     0.16\n",
            "python-slugify                     8.0.4\n",
            "python-snappy                      0.7.3\n",
            "python-utils                       3.9.1\n",
            "pytz                               2024.2\n",
            "pyviz_comms                        3.0.4\n",
            "PyYAML                             6.0.2\n",
            "pyzmq                              24.0.1\n",
            "qdldl                              0.1.7.post5\n",
            "ratelim                            0.1.6\n",
            "referencing                        0.36.2\n",
            "regex                              2024.11.6\n",
            "requests                           2.32.3\n",
            "requests-oauthlib                  1.3.1\n",
            "requests-toolbelt                  1.0.0\n",
            "requirements-parser                0.9.0\n",
            "rich                               13.9.4\n",
            "rmm-cu12                           24.12.1\n",
            "rpds-py                            0.22.3\n",
            "rpy2                               3.4.2\n",
            "rsa                                4.9\n",
            "safetensors                        0.5.2\n",
            "scikit-image                       0.25.1\n",
            "scikit-learn                       1.6.1\n",
            "scipy                              1.13.1\n",
            "scooby                             0.10.0\n",
            "scs                                3.2.7.post2\n",
            "seaborn                            0.13.2\n",
            "SecretStorage                      3.3.1\n",
            "Send2Trash                         1.8.3\n",
            "sentence-transformers              3.3.1\n",
            "sentencepiece                      0.2.0\n",
            "sentry-sdk                         2.20.0\n",
            "setproctitle                       1.3.4\n",
            "setuptools                         75.1.0\n",
            "shap                               0.46.0\n",
            "shapely                            2.0.6\n",
            "shellingham                        1.5.4\n",
            "simple-parsing                     0.1.7\n",
            "six                                1.17.0\n",
            "sklearn-compat                     0.1.3\n",
            "sklearn-pandas                     2.2.0\n",
            "slicer                             0.0.8\n",
            "smart-open                         7.1.0\n",
            "smmap                              5.0.2\n",
            "sniffio                            1.3.1\n",
            "snowballstemmer                    2.2.0\n",
            "soundfile                          0.13.1\n",
            "soupsieve                          2.6\n",
            "soxr                               0.5.0.post1\n",
            "spacy                              3.7.5\n",
            "spacy-legacy                       3.0.12\n",
            "spacy-loggers                      1.0.5\n",
            "spanner-graph-notebook             1.0.9\n",
            "Sphinx                             8.1.3\n",
            "sphinxcontrib-applehelp            2.0.0\n",
            "sphinxcontrib-devhelp              2.0.0\n",
            "sphinxcontrib-htmlhelp             2.1.0\n",
            "sphinxcontrib-jsmath               1.0.1\n",
            "sphinxcontrib-qthelp               2.0.0\n",
            "sphinxcontrib-serializinghtml      2.0.0\n",
            "SQLAlchemy                         2.0.37\n",
            "sqlglot                            25.6.1\n",
            "sqlparse                           0.5.3\n",
            "srsly                              2.5.1\n",
            "stanio                             0.5.1\n",
            "statsmodels                        0.14.4\n",
            "stringzilla                        3.11.3\n",
            "sympy                              1.13.1\n",
            "tables                             3.10.2\n",
            "tabulate                           0.9.0\n",
            "tbb                                2022.0.0\n",
            "tcmlib                             1.2.0\n",
            "tenacity                           9.0.0\n",
            "tensorboard                        2.18.0\n",
            "tensorboard-data-server            0.7.2\n",
            "tensorflow                         2.18.0\n",
            "tensorflow-datasets                4.9.7\n",
            "tensorflow-hub                     0.16.1\n",
            "tensorflow-io-gcs-filesystem       0.37.1\n",
            "tensorflow-metadata                1.16.1\n",
            "tensorflow-probability             0.24.0\n",
            "tensorflow-text                    2.18.1\n",
            "tensorstore                        0.1.71\n",
            "termcolor                          2.5.0\n",
            "terminado                          0.18.1\n",
            "text-unidecode                     1.3\n",
            "textblob                           0.17.1\n",
            "tf_keras                           2.18.0\n",
            "tf-slim                            1.1.0\n",
            "thinc                              8.2.5\n",
            "threadpoolctl                      3.5.0\n",
            "tifffile                           2025.1.10\n",
            "timm                               1.0.14\n",
            "tinycss2                           1.4.0\n",
            "tokenizers                         0.21.0\n",
            "toml                               0.10.2\n",
            "toolz                              0.12.1\n",
            "torch                              2.5.1+cu124\n",
            "torchaudio                         2.5.1+cu124\n",
            "torchsummary                       1.5.1\n",
            "torchvision                        0.20.1+cu124\n",
            "tornado                            6.4.2\n",
            "tqdm                               4.67.1\n",
            "traitlets                          5.7.1\n",
            "traittypes                         0.2.1\n",
            "transformers                       4.47.1\n",
            "triton                             3.1.0\n",
            "tweepy                             4.14.0\n",
            "typeguard                          4.4.1\n",
            "typer                              0.15.1\n",
            "types-pytz                         2024.2.0.20241221\n",
            "types-setuptools                   75.8.0.20250110\n",
            "typing_extensions                  4.12.2\n",
            "tzdata                             2025.1\n",
            "tzlocal                            5.2\n",
            "uc-micro-py                        1.0.3\n",
            "umf                                0.9.1\n",
            "uritemplate                        4.1.1\n",
            "urllib3                            2.3.0\n",
            "vega-datasets                      0.9.0\n",
            "wadllib                            1.3.6\n",
            "wandb                              0.19.5\n",
            "wasabi                             1.1.3\n",
            "wcwidth                            0.2.13\n",
            "weasel                             0.4.1\n",
            "webcolors                          24.11.1\n",
            "webencodings                       0.5.1\n",
            "websocket-client                   1.8.0\n",
            "websockets                         14.2\n",
            "Werkzeug                           3.1.3\n",
            "wheel                              0.45.1\n",
            "widgetsnbextension                 3.6.10\n",
            "wordcloud                          1.9.4\n",
            "wrapt                              1.17.2\n",
            "xarray                             2025.1.1\n",
            "xarray-einstats                    0.8.0\n",
            "xgboost                            2.1.3\n",
            "xlrd                               2.0.1\n",
            "xyzservices                        2025.1.0\n",
            "yarl                               1.18.3\n",
            "yellowbrick                        1.5\n",
            "yfinance                           0.2.52\n",
            "zipp                               3.21.0\n",
            "zstandard                          0.23.0\n"
          ]
        }
      ],
      "source": [
        "%pip list\n"
      ]
    },
    {
      "cell_type": "code",
      "execution_count": null,
      "metadata": {
        "colab": {
          "base_uri": "https://localhost:8080/"
        },
        "collapsed": true,
        "id": "yvJDR7Nat3-z",
        "outputId": "9f9eaaa9-4c43-4820-c237-af0ed3876cb2"
      },
      "outputs": [
        {
          "output_type": "stream",
          "name": "stdout",
          "text": [
            "Requirement already satisfied: scikit-learn in /usr/local/lib/python3.11/dist-packages (1.6.1)\n",
            "Requirement already satisfied: numpy>=1.19.5 in /usr/local/lib/python3.11/dist-packages (from scikit-learn) (1.26.4)\n",
            "Requirement already satisfied: scipy>=1.6.0 in /usr/local/lib/python3.11/dist-packages (from scikit-learn) (1.13.1)\n",
            "Requirement already satisfied: joblib>=1.2.0 in /usr/local/lib/python3.11/dist-packages (from scikit-learn) (1.4.2)\n",
            "Requirement already satisfied: threadpoolctl>=3.1.0 in /usr/local/lib/python3.11/dist-packages (from scikit-learn) (3.5.0)\n",
            "Requirement already satisfied: pandas in /usr/local/lib/python3.11/dist-packages (2.2.2)\n",
            "Requirement already satisfied: numpy>=1.23.2 in /usr/local/lib/python3.11/dist-packages (from pandas) (1.26.4)\n",
            "Requirement already satisfied: python-dateutil>=2.8.2 in /usr/local/lib/python3.11/dist-packages (from pandas) (2.8.2)\n",
            "Requirement already satisfied: pytz>=2020.1 in /usr/local/lib/python3.11/dist-packages (from pandas) (2024.2)\n",
            "Requirement already satisfied: tzdata>=2022.7 in /usr/local/lib/python3.11/dist-packages (from pandas) (2025.1)\n",
            "Requirement already satisfied: six>=1.5 in /usr/local/lib/python3.11/dist-packages (from python-dateutil>=2.8.2->pandas) (1.17.0)\n",
            "Requirement already satisfied: numpy in /usr/local/lib/python3.11/dist-packages (1.26.4)\n",
            "Requirement already satisfied: matplotlib in /usr/local/lib/python3.11/dist-packages (3.10.0)\n",
            "Requirement already satisfied: contourpy>=1.0.1 in /usr/local/lib/python3.11/dist-packages (from matplotlib) (1.3.1)\n",
            "Requirement already satisfied: cycler>=0.10 in /usr/local/lib/python3.11/dist-packages (from matplotlib) (0.12.1)\n",
            "Requirement already satisfied: fonttools>=4.22.0 in /usr/local/lib/python3.11/dist-packages (from matplotlib) (4.55.7)\n",
            "Requirement already satisfied: kiwisolver>=1.3.1 in /usr/local/lib/python3.11/dist-packages (from matplotlib) (1.4.8)\n",
            "Requirement already satisfied: numpy>=1.23 in /usr/local/lib/python3.11/dist-packages (from matplotlib) (1.26.4)\n",
            "Requirement already satisfied: packaging>=20.0 in /usr/local/lib/python3.11/dist-packages (from matplotlib) (24.2)\n",
            "Requirement already satisfied: pillow>=8 in /usr/local/lib/python3.11/dist-packages (from matplotlib) (11.1.0)\n",
            "Requirement already satisfied: pyparsing>=2.3.1 in /usr/local/lib/python3.11/dist-packages (from matplotlib) (3.2.1)\n",
            "Requirement already satisfied: python-dateutil>=2.7 in /usr/local/lib/python3.11/dist-packages (from matplotlib) (2.8.2)\n",
            "Requirement already satisfied: six>=1.5 in /usr/local/lib/python3.11/dist-packages (from python-dateutil>=2.7->matplotlib) (1.17.0)\n",
            "Requirement already satisfied: seaborn in /usr/local/lib/python3.11/dist-packages (0.13.2)\n",
            "Requirement already satisfied: numpy!=1.24.0,>=1.20 in /usr/local/lib/python3.11/dist-packages (from seaborn) (1.26.4)\n",
            "Requirement already satisfied: pandas>=1.2 in /usr/local/lib/python3.11/dist-packages (from seaborn) (2.2.2)\n",
            "Requirement already satisfied: matplotlib!=3.6.1,>=3.4 in /usr/local/lib/python3.11/dist-packages (from seaborn) (3.10.0)\n",
            "Requirement already satisfied: contourpy>=1.0.1 in /usr/local/lib/python3.11/dist-packages (from matplotlib!=3.6.1,>=3.4->seaborn) (1.3.1)\n",
            "Requirement already satisfied: cycler>=0.10 in /usr/local/lib/python3.11/dist-packages (from matplotlib!=3.6.1,>=3.4->seaborn) (0.12.1)\n",
            "Requirement already satisfied: fonttools>=4.22.0 in /usr/local/lib/python3.11/dist-packages (from matplotlib!=3.6.1,>=3.4->seaborn) (4.55.7)\n",
            "Requirement already satisfied: kiwisolver>=1.3.1 in /usr/local/lib/python3.11/dist-packages (from matplotlib!=3.6.1,>=3.4->seaborn) (1.4.8)\n",
            "Requirement already satisfied: packaging>=20.0 in /usr/local/lib/python3.11/dist-packages (from matplotlib!=3.6.1,>=3.4->seaborn) (24.2)\n",
            "Requirement already satisfied: pillow>=8 in /usr/local/lib/python3.11/dist-packages (from matplotlib!=3.6.1,>=3.4->seaborn) (11.1.0)\n",
            "Requirement already satisfied: pyparsing>=2.3.1 in /usr/local/lib/python3.11/dist-packages (from matplotlib!=3.6.1,>=3.4->seaborn) (3.2.1)\n",
            "Requirement already satisfied: python-dateutil>=2.7 in /usr/local/lib/python3.11/dist-packages (from matplotlib!=3.6.1,>=3.4->seaborn) (2.8.2)\n",
            "Requirement already satisfied: pytz>=2020.1 in /usr/local/lib/python3.11/dist-packages (from pandas>=1.2->seaborn) (2024.2)\n",
            "Requirement already satisfied: tzdata>=2022.7 in /usr/local/lib/python3.11/dist-packages (from pandas>=1.2->seaborn) (2025.1)\n",
            "Requirement already satisfied: six>=1.5 in /usr/local/lib/python3.11/dist-packages (from python-dateutil>=2.7->matplotlib!=3.6.1,>=3.4->seaborn) (1.17.0)\n",
            "Requirement already satisfied: scipy in /usr/local/lib/python3.11/dist-packages (1.13.1)\n",
            "Requirement already satisfied: numpy<2.3,>=1.22.4 in /usr/local/lib/python3.11/dist-packages (from scipy) (1.26.4)\n",
            "Requirement already satisfied: imbalanced-learn in /usr/local/lib/python3.11/dist-packages (0.13.0)\n",
            "Requirement already satisfied: numpy<3,>=1.24.3 in /usr/local/lib/python3.11/dist-packages (from imbalanced-learn) (1.26.4)\n",
            "Requirement already satisfied: scipy<2,>=1.10.1 in /usr/local/lib/python3.11/dist-packages (from imbalanced-learn) (1.13.1)\n",
            "Requirement already satisfied: scikit-learn<2,>=1.3.2 in /usr/local/lib/python3.11/dist-packages (from imbalanced-learn) (1.6.1)\n",
            "Requirement already satisfied: sklearn-compat<1,>=0.1 in /usr/local/lib/python3.11/dist-packages (from imbalanced-learn) (0.1.3)\n",
            "Requirement already satisfied: joblib<2,>=1.1.1 in /usr/local/lib/python3.11/dist-packages (from imbalanced-learn) (1.4.2)\n",
            "Requirement already satisfied: threadpoolctl<4,>=2.0.0 in /usr/local/lib/python3.11/dist-packages (from imbalanced-learn) (3.5.0)\n"
          ]
        }
      ],
      "source": [
        "%pip install scikit-learn\n",
        "%pip install pandas\n",
        "%pip install numpy\n",
        "%pip install matplotlib\n",
        "%pip install seaborn\n",
        "%pip install scipy\n",
        "%pip install imbalanced-learn\n",
        "\n"
      ]
    },
    {
      "cell_type": "code",
      "execution_count": null,
      "metadata": {
        "colab": {
          "base_uri": "https://localhost:8080/"
        },
        "id": "0yW7GbGSt3-0",
        "outputId": "c2b0d297-c66b-484a-f283-258f63fc70e3"
      },
      "outputs": [
        {
          "output_type": "stream",
          "name": "stdout",
          "text": [
            "Mounted at /content/drive\n"
          ]
        }
      ],
      "source": [
        "from google.colab import drive\n",
        "drive.mount('/content/drive')\n"
      ]
    },
    {
      "cell_type": "code",
      "execution_count": null,
      "metadata": {
        "id": "7IKHDD5Vt3-0"
      },
      "outputs": [],
      "source": [
        "import pandas as pd\n",
        "import numpy as np\n",
        "import matplotlib.pyplot as plt\n",
        "import seaborn as sns\n",
        "from scipy import stats\n"
      ]
    },
    {
      "cell_type": "code",
      "execution_count": null,
      "metadata": {
        "id": "svBJI5cJt3-0"
      },
      "outputs": [],
      "source": [
        "CHAMPIONGRP_PATH = \"/content/drive/MyDrive/data/Champions_Group_2025.csv\"\n",
        "df = pd.read_csv(CHAMPIONGRP_PATH)\n",
        "df.head()\n",
        "\n",
        "df.rename(columns={\"LATITUDE\":\"Latitude\", \"LONGITUDE\":\"Longitude\"}, inplace=True)"
      ]
    },
    {
      "cell_type": "code",
      "execution_count": null,
      "metadata": {
        "colab": {
          "base_uri": "https://localhost:8080/"
        },
        "id": "Q6EqOhn7t3-1",
        "outputId": "829636cf-9ef4-4a52-b1fd-5965f54316a7"
      },
      "outputs": [
        {
          "output_type": "execute_result",
          "data": {
            "text/plain": [
              "(29182, 24)"
            ]
          },
          "metadata": {},
          "execution_count": 7
        }
      ],
      "source": [
        "df.shape\n"
      ]
    },
    {
      "cell_type": "code",
      "source": [
        "headers = df.columns\n",
        "print(headers)"
      ],
      "metadata": {
        "colab": {
          "base_uri": "https://localhost:8080/"
        },
        "id": "plE2psH_Graj",
        "outputId": "425884b6-e1af-4f06-eb1d-e729f73398d7"
      },
      "execution_count": null,
      "outputs": [
        {
          "output_type": "stream",
          "name": "stdout",
          "text": [
            "Index(['Latitude', 'Longitude', 'AccountID', 'Company', 'SIC Code', 'Industry',\n",
            "       '8-Digit SIC Code', '8-Digit SIC Description', 'Year Found',\n",
            "       'Parent Company', 'Parent Country', 'Ownership Type',\n",
            "       'Company Description', 'Square Footage',\n",
            "       'Company Status (Active/Inactive)', 'Employees (Single Site)',\n",
            "       'Employees (Domestic Ultimate Total)',\n",
            "       'Employees (Global Ultimate Total)',\n",
            "       'Sales (Domestic Ultimate Total USD)',\n",
            "       'Sales (Global Ultimate Total USD)', 'Import/Export Status',\n",
            "       'Fiscal Year End', 'Is Domestic Ultimate', 'Is Global Ultimate'],\n",
            "      dtype='object')\n"
          ]
        }
      ]
    },
    {
      "cell_type": "code",
      "execution_count": null,
      "metadata": {
        "colab": {
          "base_uri": "https://localhost:8080/"
        },
        "id": "Wxr-Oknrt3-1",
        "outputId": "df666c84-7bc9-44a5-bfbc-1b6432d8e368"
      },
      "outputs": [
        {
          "output_type": "stream",
          "name": "stdout",
          "text": [
            "\n",
            "Number of duplicate rows: 0\n"
          ]
        }
      ],
      "source": [
        "print(\"\\nNumber of duplicate rows:\", df.duplicated().sum())"
      ]
    },
    {
      "cell_type": "code",
      "source": [
        "# Drop redundant columns\n",
        "df.drop('AccountID', axis = 1, inplace = True)\n",
        "df.drop('SIC Code', axis = 1, inplace = True)\n",
        "df.drop('8-Digit SIC Code', axis = 1, inplace = True)\n",
        "df.drop('8-Digit SIC Description', axis = 1, inplace = True)\n",
        "df.drop('Company Description', axis = 1, inplace = True)\n",
        "df.drop('Company', axis = 1, inplace = True)"
      ],
      "metadata": {
        "id": "ZyE3b-USPciD"
      },
      "execution_count": null,
      "outputs": []
    },
    {
      "cell_type": "code",
      "execution_count": null,
      "metadata": {
        "colab": {
          "base_uri": "https://localhost:8080/"
        },
        "id": "L8NBRVFpt3-2",
        "outputId": "21145cbc-52ee-4cb3-f941-5695ef93b646"
      },
      "outputs": [
        {
          "output_type": "stream",
          "name": "stdout",
          "text": [
            "12403\n",
            "22569\n",
            "22445\n",
            "29182\n"
          ]
        }
      ],
      "source": [
        "print(df['Employees (Single Site)'].isnull().sum())\n",
        "print(df['Import/Export Status'].isnull().sum())\n",
        "print(df['Fiscal Year End'].isnull().sum())\n",
        "print(df['Square Footage'].isnull().sum())"
      ]
    },
    {
      "cell_type": "markdown",
      "metadata": {
        "id": "QEyDAujgt3-2"
      },
      "source": [
        "#Settling Columns with large proportion of missing values\n",
        "\n",
        "\n"
      ]
    },
    {
      "cell_type": "code",
      "execution_count": null,
      "metadata": {
        "colab": {
          "base_uri": "https://localhost:8080/",
          "height": 362
        },
        "id": "E5oiR5kqt3-3",
        "outputId": "3a1dc712-2690-43ed-a8bd-8ee6ba2634a5"
      },
      "outputs": [
        {
          "output_type": "execute_result",
          "data": {
            "text/plain": [
              "   Latitude   Longitude                                           Industry  \\\n",
              "0  1.238792  103.685898  Plastics Materials, Synthetic Resins, and Nonv...   \n",
              "1  1.240392  103.837565                  Offices of Bank Holding Companies   \n",
              "2  1.240392  103.837565                Investors, Not Elsewhere Classified   \n",
              "3  1.240409  103.837960  Offices of Holding Companies, Not Elsewhere Cl...   \n",
              "4  1.240784  103.839111                  Offices of Bank Holding Companies   \n",
              "\n",
              "   Year Found Ownership Type Company Status (Active/Inactive)  \\\n",
              "0      1980.0        Private                           Active   \n",
              "1      1993.0        Private                           Active   \n",
              "2      2018.0        Private                           Active   \n",
              "3      2004.0        Private                           Active   \n",
              "4      1986.0        Private                           Active   \n",
              "\n",
              "   Employees (Domestic Ultimate Total)  Employees (Global Ultimate Total)  \\\n",
              "0                                300.0                              300.0   \n",
              "1                                100.0                              100.0   \n",
              "2                                 22.0                               22.0   \n",
              "3                                100.0                              100.0   \n",
              "4                                 33.0                               33.0   \n",
              "\n",
              "   Sales (Domestic Ultimate Total USD)  Sales (Global Ultimate Total USD)  \\\n",
              "0                             76973100                           76973100   \n",
              "1                              9499251                            9499251   \n",
              "2                             13738494                           13738494   \n",
              "3                            103745791                          103745791   \n",
              "4                             60863682                           60863682   \n",
              "\n",
              "   Is Domestic Ultimate  Is Global Ultimate  \n",
              "0                     0                   0  \n",
              "1                     0                   0  \n",
              "2                     0                   0  \n",
              "3                     0                   0  \n",
              "4                     1                   1  "
            ],
            "text/html": [
              "\n",
              "  <div id=\"df-6f04398d-253e-477b-b210-542def0a4d95\" class=\"colab-df-container\">\n",
              "    <div>\n",
              "<style scoped>\n",
              "    .dataframe tbody tr th:only-of-type {\n",
              "        vertical-align: middle;\n",
              "    }\n",
              "\n",
              "    .dataframe tbody tr th {\n",
              "        vertical-align: top;\n",
              "    }\n",
              "\n",
              "    .dataframe thead th {\n",
              "        text-align: right;\n",
              "    }\n",
              "</style>\n",
              "<table border=\"1\" class=\"dataframe\">\n",
              "  <thead>\n",
              "    <tr style=\"text-align: right;\">\n",
              "      <th></th>\n",
              "      <th>Latitude</th>\n",
              "      <th>Longitude</th>\n",
              "      <th>Industry</th>\n",
              "      <th>Year Found</th>\n",
              "      <th>Ownership Type</th>\n",
              "      <th>Company Status (Active/Inactive)</th>\n",
              "      <th>Employees (Domestic Ultimate Total)</th>\n",
              "      <th>Employees (Global Ultimate Total)</th>\n",
              "      <th>Sales (Domestic Ultimate Total USD)</th>\n",
              "      <th>Sales (Global Ultimate Total USD)</th>\n",
              "      <th>Is Domestic Ultimate</th>\n",
              "      <th>Is Global Ultimate</th>\n",
              "    </tr>\n",
              "  </thead>\n",
              "  <tbody>\n",
              "    <tr>\n",
              "      <th>0</th>\n",
              "      <td>1.238792</td>\n",
              "      <td>103.685898</td>\n",
              "      <td>Plastics Materials, Synthetic Resins, and Nonv...</td>\n",
              "      <td>1980.0</td>\n",
              "      <td>Private</td>\n",
              "      <td>Active</td>\n",
              "      <td>300.0</td>\n",
              "      <td>300.0</td>\n",
              "      <td>76973100</td>\n",
              "      <td>76973100</td>\n",
              "      <td>0</td>\n",
              "      <td>0</td>\n",
              "    </tr>\n",
              "    <tr>\n",
              "      <th>1</th>\n",
              "      <td>1.240392</td>\n",
              "      <td>103.837565</td>\n",
              "      <td>Offices of Bank Holding Companies</td>\n",
              "      <td>1993.0</td>\n",
              "      <td>Private</td>\n",
              "      <td>Active</td>\n",
              "      <td>100.0</td>\n",
              "      <td>100.0</td>\n",
              "      <td>9499251</td>\n",
              "      <td>9499251</td>\n",
              "      <td>0</td>\n",
              "      <td>0</td>\n",
              "    </tr>\n",
              "    <tr>\n",
              "      <th>2</th>\n",
              "      <td>1.240392</td>\n",
              "      <td>103.837565</td>\n",
              "      <td>Investors, Not Elsewhere Classified</td>\n",
              "      <td>2018.0</td>\n",
              "      <td>Private</td>\n",
              "      <td>Active</td>\n",
              "      <td>22.0</td>\n",
              "      <td>22.0</td>\n",
              "      <td>13738494</td>\n",
              "      <td>13738494</td>\n",
              "      <td>0</td>\n",
              "      <td>0</td>\n",
              "    </tr>\n",
              "    <tr>\n",
              "      <th>3</th>\n",
              "      <td>1.240409</td>\n",
              "      <td>103.837960</td>\n",
              "      <td>Offices of Holding Companies, Not Elsewhere Cl...</td>\n",
              "      <td>2004.0</td>\n",
              "      <td>Private</td>\n",
              "      <td>Active</td>\n",
              "      <td>100.0</td>\n",
              "      <td>100.0</td>\n",
              "      <td>103745791</td>\n",
              "      <td>103745791</td>\n",
              "      <td>0</td>\n",
              "      <td>0</td>\n",
              "    </tr>\n",
              "    <tr>\n",
              "      <th>4</th>\n",
              "      <td>1.240784</td>\n",
              "      <td>103.839111</td>\n",
              "      <td>Offices of Bank Holding Companies</td>\n",
              "      <td>1986.0</td>\n",
              "      <td>Private</td>\n",
              "      <td>Active</td>\n",
              "      <td>33.0</td>\n",
              "      <td>33.0</td>\n",
              "      <td>60863682</td>\n",
              "      <td>60863682</td>\n",
              "      <td>1</td>\n",
              "      <td>1</td>\n",
              "    </tr>\n",
              "  </tbody>\n",
              "</table>\n",
              "</div>\n",
              "    <div class=\"colab-df-buttons\">\n",
              "\n",
              "  <div class=\"colab-df-container\">\n",
              "    <button class=\"colab-df-convert\" onclick=\"convertToInteractive('df-6f04398d-253e-477b-b210-542def0a4d95')\"\n",
              "            title=\"Convert this dataframe to an interactive table.\"\n",
              "            style=\"display:none;\">\n",
              "\n",
              "  <svg xmlns=\"http://www.w3.org/2000/svg\" height=\"24px\" viewBox=\"0 -960 960 960\">\n",
              "    <path d=\"M120-120v-720h720v720H120Zm60-500h600v-160H180v160Zm220 220h160v-160H400v160Zm0 220h160v-160H400v160ZM180-400h160v-160H180v160Zm440 0h160v-160H620v160ZM180-180h160v-160H180v160Zm440 0h160v-160H620v160Z\"/>\n",
              "  </svg>\n",
              "    </button>\n",
              "\n",
              "  <style>\n",
              "    .colab-df-container {\n",
              "      display:flex;\n",
              "      gap: 12px;\n",
              "    }\n",
              "\n",
              "    .colab-df-convert {\n",
              "      background-color: #E8F0FE;\n",
              "      border: none;\n",
              "      border-radius: 50%;\n",
              "      cursor: pointer;\n",
              "      display: none;\n",
              "      fill: #1967D2;\n",
              "      height: 32px;\n",
              "      padding: 0 0 0 0;\n",
              "      width: 32px;\n",
              "    }\n",
              "\n",
              "    .colab-df-convert:hover {\n",
              "      background-color: #E2EBFA;\n",
              "      box-shadow: 0px 1px 2px rgba(60, 64, 67, 0.3), 0px 1px 3px 1px rgba(60, 64, 67, 0.15);\n",
              "      fill: #174EA6;\n",
              "    }\n",
              "\n",
              "    .colab-df-buttons div {\n",
              "      margin-bottom: 4px;\n",
              "    }\n",
              "\n",
              "    [theme=dark] .colab-df-convert {\n",
              "      background-color: #3B4455;\n",
              "      fill: #D2E3FC;\n",
              "    }\n",
              "\n",
              "    [theme=dark] .colab-df-convert:hover {\n",
              "      background-color: #434B5C;\n",
              "      box-shadow: 0px 1px 3px 1px rgba(0, 0, 0, 0.15);\n",
              "      filter: drop-shadow(0px 1px 2px rgba(0, 0, 0, 0.3));\n",
              "      fill: #FFFFFF;\n",
              "    }\n",
              "  </style>\n",
              "\n",
              "    <script>\n",
              "      const buttonEl =\n",
              "        document.querySelector('#df-6f04398d-253e-477b-b210-542def0a4d95 button.colab-df-convert');\n",
              "      buttonEl.style.display =\n",
              "        google.colab.kernel.accessAllowed ? 'block' : 'none';\n",
              "\n",
              "      async function convertToInteractive(key) {\n",
              "        const element = document.querySelector('#df-6f04398d-253e-477b-b210-542def0a4d95');\n",
              "        const dataTable =\n",
              "          await google.colab.kernel.invokeFunction('convertToInteractive',\n",
              "                                                    [key], {});\n",
              "        if (!dataTable) return;\n",
              "\n",
              "        const docLinkHtml = 'Like what you see? Visit the ' +\n",
              "          '<a target=\"_blank\" href=https://colab.research.google.com/notebooks/data_table.ipynb>data table notebook</a>'\n",
              "          + ' to learn more about interactive tables.';\n",
              "        element.innerHTML = '';\n",
              "        dataTable['output_type'] = 'display_data';\n",
              "        await google.colab.output.renderOutput(dataTable, element);\n",
              "        const docLink = document.createElement('div');\n",
              "        docLink.innerHTML = docLinkHtml;\n",
              "        element.appendChild(docLink);\n",
              "      }\n",
              "    </script>\n",
              "  </div>\n",
              "\n",
              "\n",
              "<div id=\"df-80023c92-18d6-4151-9ef8-d85907fa5d52\">\n",
              "  <button class=\"colab-df-quickchart\" onclick=\"quickchart('df-80023c92-18d6-4151-9ef8-d85907fa5d52')\"\n",
              "            title=\"Suggest charts\"\n",
              "            style=\"display:none;\">\n",
              "\n",
              "<svg xmlns=\"http://www.w3.org/2000/svg\" height=\"24px\"viewBox=\"0 0 24 24\"\n",
              "     width=\"24px\">\n",
              "    <g>\n",
              "        <path d=\"M19 3H5c-1.1 0-2 .9-2 2v14c0 1.1.9 2 2 2h14c1.1 0 2-.9 2-2V5c0-1.1-.9-2-2-2zM9 17H7v-7h2v7zm4 0h-2V7h2v10zm4 0h-2v-4h2v4z\"/>\n",
              "    </g>\n",
              "</svg>\n",
              "  </button>\n",
              "\n",
              "<style>\n",
              "  .colab-df-quickchart {\n",
              "      --bg-color: #E8F0FE;\n",
              "      --fill-color: #1967D2;\n",
              "      --hover-bg-color: #E2EBFA;\n",
              "      --hover-fill-color: #174EA6;\n",
              "      --disabled-fill-color: #AAA;\n",
              "      --disabled-bg-color: #DDD;\n",
              "  }\n",
              "\n",
              "  [theme=dark] .colab-df-quickchart {\n",
              "      --bg-color: #3B4455;\n",
              "      --fill-color: #D2E3FC;\n",
              "      --hover-bg-color: #434B5C;\n",
              "      --hover-fill-color: #FFFFFF;\n",
              "      --disabled-bg-color: #3B4455;\n",
              "      --disabled-fill-color: #666;\n",
              "  }\n",
              "\n",
              "  .colab-df-quickchart {\n",
              "    background-color: var(--bg-color);\n",
              "    border: none;\n",
              "    border-radius: 50%;\n",
              "    cursor: pointer;\n",
              "    display: none;\n",
              "    fill: var(--fill-color);\n",
              "    height: 32px;\n",
              "    padding: 0;\n",
              "    width: 32px;\n",
              "  }\n",
              "\n",
              "  .colab-df-quickchart:hover {\n",
              "    background-color: var(--hover-bg-color);\n",
              "    box-shadow: 0 1px 2px rgba(60, 64, 67, 0.3), 0 1px 3px 1px rgba(60, 64, 67, 0.15);\n",
              "    fill: var(--button-hover-fill-color);\n",
              "  }\n",
              "\n",
              "  .colab-df-quickchart-complete:disabled,\n",
              "  .colab-df-quickchart-complete:disabled:hover {\n",
              "    background-color: var(--disabled-bg-color);\n",
              "    fill: var(--disabled-fill-color);\n",
              "    box-shadow: none;\n",
              "  }\n",
              "\n",
              "  .colab-df-spinner {\n",
              "    border: 2px solid var(--fill-color);\n",
              "    border-color: transparent;\n",
              "    border-bottom-color: var(--fill-color);\n",
              "    animation:\n",
              "      spin 1s steps(1) infinite;\n",
              "  }\n",
              "\n",
              "  @keyframes spin {\n",
              "    0% {\n",
              "      border-color: transparent;\n",
              "      border-bottom-color: var(--fill-color);\n",
              "      border-left-color: var(--fill-color);\n",
              "    }\n",
              "    20% {\n",
              "      border-color: transparent;\n",
              "      border-left-color: var(--fill-color);\n",
              "      border-top-color: var(--fill-color);\n",
              "    }\n",
              "    30% {\n",
              "      border-color: transparent;\n",
              "      border-left-color: var(--fill-color);\n",
              "      border-top-color: var(--fill-color);\n",
              "      border-right-color: var(--fill-color);\n",
              "    }\n",
              "    40% {\n",
              "      border-color: transparent;\n",
              "      border-right-color: var(--fill-color);\n",
              "      border-top-color: var(--fill-color);\n",
              "    }\n",
              "    60% {\n",
              "      border-color: transparent;\n",
              "      border-right-color: var(--fill-color);\n",
              "    }\n",
              "    80% {\n",
              "      border-color: transparent;\n",
              "      border-right-color: var(--fill-color);\n",
              "      border-bottom-color: var(--fill-color);\n",
              "    }\n",
              "    90% {\n",
              "      border-color: transparent;\n",
              "      border-bottom-color: var(--fill-color);\n",
              "    }\n",
              "  }\n",
              "</style>\n",
              "\n",
              "  <script>\n",
              "    async function quickchart(key) {\n",
              "      const quickchartButtonEl =\n",
              "        document.querySelector('#' + key + ' button');\n",
              "      quickchartButtonEl.disabled = true;  // To prevent multiple clicks.\n",
              "      quickchartButtonEl.classList.add('colab-df-spinner');\n",
              "      try {\n",
              "        const charts = await google.colab.kernel.invokeFunction(\n",
              "            'suggestCharts', [key], {});\n",
              "      } catch (error) {\n",
              "        console.error('Error during call to suggestCharts:', error);\n",
              "      }\n",
              "      quickchartButtonEl.classList.remove('colab-df-spinner');\n",
              "      quickchartButtonEl.classList.add('colab-df-quickchart-complete');\n",
              "    }\n",
              "    (() => {\n",
              "      let quickchartButtonEl =\n",
              "        document.querySelector('#df-80023c92-18d6-4151-9ef8-d85907fa5d52 button');\n",
              "      quickchartButtonEl.style.display =\n",
              "        google.colab.kernel.accessAllowed ? 'block' : 'none';\n",
              "    })();\n",
              "  </script>\n",
              "</div>\n",
              "\n",
              "    </div>\n",
              "  </div>\n"
            ],
            "application/vnd.google.colaboratory.intrinsic+json": {
              "type": "dataframe",
              "variable_name": "df",
              "summary": "{\n  \"name\": \"df\",\n  \"rows\": 29182,\n  \"fields\": [\n    {\n      \"column\": \"Latitude\",\n      \"properties\": {\n        \"dtype\": \"number\",\n        \"std\": 0.04373965966687541,\n        \"min\": 1.238792312,\n        \"max\": 1.469800148,\n        \"num_unique_values\": 9298,\n        \"samples\": [\n          1.339880112,\n          1.295298297,\n          1.359165748\n        ],\n        \"semantic_type\": \"\",\n        \"description\": \"\"\n      }\n    },\n    {\n      \"column\": \"Longitude\",\n      \"properties\": {\n        \"dtype\": \"number\",\n        \"std\": 0.05375725409705064,\n        \"min\": 103.611319,\n        \"max\": 104.0032182,\n        \"num_unique_values\": 9274,\n        \"samples\": [\n          103.8488646,\n          103.8597478,\n          103.8258416\n        ],\n        \"semantic_type\": \"\",\n        \"description\": \"\"\n      }\n    },\n    {\n      \"column\": \"Industry\",\n      \"properties\": {\n        \"dtype\": \"category\",\n        \"num_unique_values\": 580,\n        \"samples\": [\n          \"Branches and Agencies of Foreign Banks\",\n          \"Local Passenger Transportation, Not Elsewhere Classified\",\n          \"Synthetic Rubber (Vulcanizable Elastomers)\"\n        ],\n        \"semantic_type\": \"\",\n        \"description\": \"\"\n      }\n    },\n    {\n      \"column\": \"Year Found\",\n      \"properties\": {\n        \"dtype\": \"number\",\n        \"std\": 13.464237787316431,\n        \"min\": 1819.0,\n        \"max\": 2023.0,\n        \"num_unique_values\": 106,\n        \"samples\": [\n          1819.0,\n          2013.0,\n          1986.0\n        ],\n        \"semantic_type\": \"\",\n        \"description\": \"\"\n      }\n    },\n    {\n      \"column\": \"Ownership Type\",\n      \"properties\": {\n        \"dtype\": \"category\",\n        \"num_unique_values\": 6,\n        \"samples\": [\n          \"Private\",\n          \"Public\",\n          \"Nonprofit\"\n        ],\n        \"semantic_type\": \"\",\n        \"description\": \"\"\n      }\n    },\n    {\n      \"column\": \"Company Status (Active/Inactive)\",\n      \"properties\": {\n        \"dtype\": \"category\",\n        \"num_unique_values\": 1,\n        \"samples\": [\n          \"Active\"\n        ],\n        \"semantic_type\": \"\",\n        \"description\": \"\"\n      }\n    },\n    {\n      \"column\": \"Employees (Domestic Ultimate Total)\",\n      \"properties\": {\n        \"dtype\": \"number\",\n        \"std\": 1118.9392492544755,\n        \"min\": 1.0,\n        \"max\": 80000.0,\n        \"num_unique_values\": 380,\n        \"samples\": [\n          134.0\n        ],\n        \"semantic_type\": \"\",\n        \"description\": \"\"\n      }\n    },\n    {\n      \"column\": \"Employees (Global Ultimate Total)\",\n      \"properties\": {\n        \"dtype\": \"number\",\n        \"std\": 45394.620371482,\n        \"min\": 1.0,\n        \"max\": 2190000.0,\n        \"num_unique_values\": 2013,\n        \"samples\": [\n          691.0\n        ],\n        \"semantic_type\": \"\",\n        \"description\": \"\"\n      }\n    },\n    {\n      \"column\": \"Sales (Domestic Ultimate Total USD)\",\n      \"properties\": {\n        \"dtype\": \"number\",\n        \"std\": 10196356845,\n        \"min\": -150263100,\n        \"max\": 318476400000,\n        \"num_unique_values\": 8346,\n        \"samples\": [\n          36209459\n        ],\n        \"semantic_type\": \"\",\n        \"description\": \"\"\n      }\n    },\n    {\n      \"column\": \"Sales (Global Ultimate Total USD)\",\n      \"properties\": {\n        \"dtype\": \"number\",\n        \"std\": 21845885778,\n        \"min\": 1,\n        \"max\": 514000000000,\n        \"num_unique_values\": 7574,\n        \"samples\": [\n          7605584\n        ],\n        \"semantic_type\": \"\",\n        \"description\": \"\"\n      }\n    },\n    {\n      \"column\": \"Is Domestic Ultimate\",\n      \"properties\": {\n        \"dtype\": \"number\",\n        \"std\": 0,\n        \"min\": 0,\n        \"max\": 1,\n        \"num_unique_values\": 2,\n        \"samples\": [\n          1\n        ],\n        \"semantic_type\": \"\",\n        \"description\": \"\"\n      }\n    },\n    {\n      \"column\": \"Is Global Ultimate\",\n      \"properties\": {\n        \"dtype\": \"number\",\n        \"std\": 0,\n        \"min\": 0,\n        \"max\": 1,\n        \"num_unique_values\": 2,\n        \"samples\": [\n          1\n        ],\n        \"semantic_type\": \"\",\n        \"description\": \"\"\n      }\n    }\n  ]\n}"
            }
          },
          "metadata": {},
          "execution_count": 12
        }
      ],
      "source": [
        "df.drop('Employees (Single Site)', axis=1, inplace=True)\n",
        "df.drop('Import/Export Status', axis=1, inplace=True)\n",
        "df.drop('Fiscal Year End', axis=1, inplace=True)\n",
        "df.drop('Square Footage',axis =1, inplace = True)\n",
        "df.drop('Parent Company', axis = 1, inplace = True)\n",
        "df.drop('Parent Country', axis = 1, inplace = True)\n",
        "df.head()"
      ]
    },
    {
      "cell_type": "code",
      "execution_count": null,
      "metadata": {
        "colab": {
          "base_uri": "https://localhost:8080/"
        },
        "id": "wEu7SANBt3-4",
        "outputId": "656b786b-e85c-4aa4-b645-e433ecea3f61"
      },
      "outputs": [
        {
          "output_type": "execute_result",
          "data": {
            "text/plain": [
              "(29182, 12)"
            ]
          },
          "metadata": {},
          "execution_count": 13
        }
      ],
      "source": [
        "df.shape"
      ]
    },
    {
      "cell_type": "code",
      "execution_count": null,
      "metadata": {
        "colab": {
          "base_uri": "https://localhost:8080/"
        },
        "id": "6tE9hbbkt3-4",
        "outputId": "c8080abb-7f53-4d8e-ce53-2e0a0e757c38"
      },
      "outputs": [
        {
          "output_type": "stream",
          "name": "stdout",
          "text": [
            "0        1980.0\n",
            "1        1993.0\n",
            "2        2018.0\n",
            "3        2004.0\n",
            "4        1986.0\n",
            "          ...  \n",
            "29177    2012.0\n",
            "29178    2010.0\n",
            "29179    2014.0\n",
            "29180    2016.0\n",
            "29181    2008.0\n",
            "Name: Year Found, Length: 29182, dtype: float64\n",
            "0        300.0\n",
            "1        100.0\n",
            "2         22.0\n",
            "3        100.0\n",
            "4         33.0\n",
            "         ...  \n",
            "29177      4.0\n",
            "29178     98.0\n",
            "29179     14.0\n",
            "29180     80.0\n",
            "29181     35.0\n",
            "Name: Employees (Domestic Ultimate Total), Length: 29182, dtype: float64\n",
            "0         300.0\n",
            "1         100.0\n",
            "2          22.0\n",
            "3         100.0\n",
            "4          33.0\n",
            "          ...  \n",
            "29177       4.0\n",
            "29178     394.0\n",
            "29179    6339.0\n",
            "29180      80.0\n",
            "29181      80.0\n",
            "Name: Employees (Global Ultimate Total), Length: 29182, dtype: float64\n"
          ]
        }
      ],
      "source": [
        "print(df['Year Found'])\n",
        "print(df['Employees (Domestic Ultimate Total)'])\n",
        "print(df['Employees (Global Ultimate Total)'])"
      ]
    },
    {
      "cell_type": "code",
      "execution_count": null,
      "metadata": {
        "colab": {
          "base_uri": "https://localhost:8080/",
          "height": 460
        },
        "id": "RnwzKEIzFA7-",
        "outputId": "6150120e-6fd7-4e04-e08b-af37ac31b02c"
      },
      "outputs": [
        {
          "output_type": "execute_result",
          "data": {
            "text/plain": [
              "Latitude                                120\n",
              "Longitude                               120\n",
              "Industry                                  0\n",
              "Year Found                              434\n",
              "Ownership Type                            0\n",
              "Company Status (Active/Inactive)          0\n",
              "Employees (Domestic Ultimate Total)      79\n",
              "Employees (Global Ultimate Total)      2774\n",
              "Sales (Domestic Ultimate Total USD)       0\n",
              "Sales (Global Ultimate Total USD)         0\n",
              "Is Domestic Ultimate                      0\n",
              "Is Global Ultimate                        0\n",
              "dtype: int64"
            ],
            "text/html": [
              "<div>\n",
              "<style scoped>\n",
              "    .dataframe tbody tr th:only-of-type {\n",
              "        vertical-align: middle;\n",
              "    }\n",
              "\n",
              "    .dataframe tbody tr th {\n",
              "        vertical-align: top;\n",
              "    }\n",
              "\n",
              "    .dataframe thead th {\n",
              "        text-align: right;\n",
              "    }\n",
              "</style>\n",
              "<table border=\"1\" class=\"dataframe\">\n",
              "  <thead>\n",
              "    <tr style=\"text-align: right;\">\n",
              "      <th></th>\n",
              "      <th>0</th>\n",
              "    </tr>\n",
              "  </thead>\n",
              "  <tbody>\n",
              "    <tr>\n",
              "      <th>Latitude</th>\n",
              "      <td>120</td>\n",
              "    </tr>\n",
              "    <tr>\n",
              "      <th>Longitude</th>\n",
              "      <td>120</td>\n",
              "    </tr>\n",
              "    <tr>\n",
              "      <th>Industry</th>\n",
              "      <td>0</td>\n",
              "    </tr>\n",
              "    <tr>\n",
              "      <th>Year Found</th>\n",
              "      <td>434</td>\n",
              "    </tr>\n",
              "    <tr>\n",
              "      <th>Ownership Type</th>\n",
              "      <td>0</td>\n",
              "    </tr>\n",
              "    <tr>\n",
              "      <th>Company Status (Active/Inactive)</th>\n",
              "      <td>0</td>\n",
              "    </tr>\n",
              "    <tr>\n",
              "      <th>Employees (Domestic Ultimate Total)</th>\n",
              "      <td>79</td>\n",
              "    </tr>\n",
              "    <tr>\n",
              "      <th>Employees (Global Ultimate Total)</th>\n",
              "      <td>2774</td>\n",
              "    </tr>\n",
              "    <tr>\n",
              "      <th>Sales (Domestic Ultimate Total USD)</th>\n",
              "      <td>0</td>\n",
              "    </tr>\n",
              "    <tr>\n",
              "      <th>Sales (Global Ultimate Total USD)</th>\n",
              "      <td>0</td>\n",
              "    </tr>\n",
              "    <tr>\n",
              "      <th>Is Domestic Ultimate</th>\n",
              "      <td>0</td>\n",
              "    </tr>\n",
              "    <tr>\n",
              "      <th>Is Global Ultimate</th>\n",
              "      <td>0</td>\n",
              "    </tr>\n",
              "  </tbody>\n",
              "</table>\n",
              "</div><br><label><b>dtype:</b> int64</label>"
            ]
          },
          "metadata": {},
          "execution_count": 15
        }
      ],
      "source": [
        "df.isna().sum()"
      ]
    },
    {
      "cell_type": "markdown",
      "metadata": {
        "id": "h-AsH_5SFcoT"
      },
      "source": [
        "#Settling Rows With Missing Values\n",
        "\n",
        "\"Year Found\" represents a historical fact rather than a continuous variable that fluctuates with other company attributes. Since imputation could introduce artificial data, missing values for \"Year Found\" are dropped entirely to preserve data integrity.\n",
        "\n",
        "\"Employees (Global Ultimate Total)\" is likely to be more dependent on other variables such as global sales. Thus, KNN imputation is used to impute missing values.\n",
        "\n",
        "\"Employees (Domestic Ultimate Total)\" however, does not seem to have a significant relationship with other variables. Thus, median imputation is used to impute missing values.\n",
        "\n",
        "\"Latitude\" and \"Longitude\" are geographical features that may influence whether a company is classified as a global or domestic ultimate. Instead of dropping missing values outright, they are imputed using the mean coordinates of companies in the same industry to maintain geographic context as certain industries exhibit geographic clustering due to regional business hubs, supply chain dependencies, or regulatory factors."
      ]
    },
    {
      "cell_type": "code",
      "execution_count": null,
      "metadata": {
        "id": "nCP38wivx0uR"
      },
      "outputs": [],
      "source": [
        "from sklearn.impute import KNNImputer\n",
        "from sklearn.impute import SimpleImputer\n",
        "\n",
        "knn_imputer = KNNImputer(n_neighbors=5)\n",
        "df[['Employees (Global Ultimate Total)']] = knn_imputer.fit_transform(df[['Employees (Global Ultimate Total)']])\n",
        "\n",
        "median_imputer = SimpleImputer(strategy='median')\n",
        "df['Employees (Domestic Ultimate Total)'] = median_imputer.fit_transform(df[['Employees (Domestic Ultimate Total)']])"
      ]
    },
    {
      "cell_type": "code",
      "execution_count": null,
      "metadata": {
        "colab": {
          "base_uri": "https://localhost:8080/",
          "height": 477
        },
        "id": "XrDhjgoAt3-5",
        "outputId": "e1eb6595-daf5-43b0-dcc2-213f4cf2b708"
      },
      "outputs": [
        {
          "output_type": "stream",
          "name": "stdout",
          "text": [
            "(29182, 12)\n"
          ]
        },
        {
          "output_type": "execute_result",
          "data": {
            "text/plain": [
              "Latitude                               120\n",
              "Longitude                              120\n",
              "Industry                                 0\n",
              "Year Found                             434\n",
              "Ownership Type                           0\n",
              "Company Status (Active/Inactive)         0\n",
              "Employees (Domestic Ultimate Total)      0\n",
              "Employees (Global Ultimate Total)        0\n",
              "Sales (Domestic Ultimate Total USD)      0\n",
              "Sales (Global Ultimate Total USD)        0\n",
              "Is Domestic Ultimate                     0\n",
              "Is Global Ultimate                       0\n",
              "dtype: int64"
            ],
            "text/html": [
              "<div>\n",
              "<style scoped>\n",
              "    .dataframe tbody tr th:only-of-type {\n",
              "        vertical-align: middle;\n",
              "    }\n",
              "\n",
              "    .dataframe tbody tr th {\n",
              "        vertical-align: top;\n",
              "    }\n",
              "\n",
              "    .dataframe thead th {\n",
              "        text-align: right;\n",
              "    }\n",
              "</style>\n",
              "<table border=\"1\" class=\"dataframe\">\n",
              "  <thead>\n",
              "    <tr style=\"text-align: right;\">\n",
              "      <th></th>\n",
              "      <th>0</th>\n",
              "    </tr>\n",
              "  </thead>\n",
              "  <tbody>\n",
              "    <tr>\n",
              "      <th>Latitude</th>\n",
              "      <td>120</td>\n",
              "    </tr>\n",
              "    <tr>\n",
              "      <th>Longitude</th>\n",
              "      <td>120</td>\n",
              "    </tr>\n",
              "    <tr>\n",
              "      <th>Industry</th>\n",
              "      <td>0</td>\n",
              "    </tr>\n",
              "    <tr>\n",
              "      <th>Year Found</th>\n",
              "      <td>434</td>\n",
              "    </tr>\n",
              "    <tr>\n",
              "      <th>Ownership Type</th>\n",
              "      <td>0</td>\n",
              "    </tr>\n",
              "    <tr>\n",
              "      <th>Company Status (Active/Inactive)</th>\n",
              "      <td>0</td>\n",
              "    </tr>\n",
              "    <tr>\n",
              "      <th>Employees (Domestic Ultimate Total)</th>\n",
              "      <td>0</td>\n",
              "    </tr>\n",
              "    <tr>\n",
              "      <th>Employees (Global Ultimate Total)</th>\n",
              "      <td>0</td>\n",
              "    </tr>\n",
              "    <tr>\n",
              "      <th>Sales (Domestic Ultimate Total USD)</th>\n",
              "      <td>0</td>\n",
              "    </tr>\n",
              "    <tr>\n",
              "      <th>Sales (Global Ultimate Total USD)</th>\n",
              "      <td>0</td>\n",
              "    </tr>\n",
              "    <tr>\n",
              "      <th>Is Domestic Ultimate</th>\n",
              "      <td>0</td>\n",
              "    </tr>\n",
              "    <tr>\n",
              "      <th>Is Global Ultimate</th>\n",
              "      <td>0</td>\n",
              "    </tr>\n",
              "  </tbody>\n",
              "</table>\n",
              "</div><br><label><b>dtype:</b> int64</label>"
            ]
          },
          "metadata": {},
          "execution_count": 17
        }
      ],
      "source": [
        "# CHECK FOR ANY MORE NA VALUES\n",
        "print(df.shape)\n",
        "df.isna().sum()\n"
      ]
    },
    {
      "cell_type": "code",
      "execution_count": null,
      "metadata": {
        "colab": {
          "base_uri": "https://localhost:8080/"
        },
        "id": "Fm8NSSh6ueZ7",
        "outputId": "8aaee9ee-6a2d-40fc-9066-9448e7115b5b"
      },
      "outputs": [
        {
          "output_type": "stream",
          "name": "stderr",
          "text": [
            "<ipython-input-18-2add6306b271>:2: SettingWithCopyWarning: \n",
            "A value is trying to be set on a copy of a slice from a DataFrame.\n",
            "Try using .loc[row_indexer,col_indexer] = value instead\n",
            "\n",
            "See the caveats in the documentation: https://pandas.pydata.org/pandas-docs/stable/user_guide/indexing.html#returning-a-view-versus-a-copy\n",
            "  df['Year Found'] = df['Year Found'].astype(int)\n"
          ]
        },
        {
          "output_type": "execute_result",
          "data": {
            "text/plain": [
              "(28632, 12)"
            ]
          },
          "metadata": {},
          "execution_count": 18
        }
      ],
      "source": [
        "df = df.dropna(subset=['Year Found'])\n",
        "df['Year Found'] = df['Year Found'].astype(int)\n",
        "\n",
        "df = df.dropna(subset=['Latitude'])\n",
        "df = df.dropna(subset=['Longitude'])\n",
        "\n",
        "df.shape"
      ]
    },
    {
      "cell_type": "markdown",
      "metadata": {
        "id": "Y3NasUaIRGuU"
      },
      "source": [
        "#Identifying Outliers"
      ]
    },
    {
      "cell_type": "markdown",
      "metadata": {
        "id": "SMPkUs_9OOCe"
      },
      "source": [
        "The three chunk of codes is for the column 'Employees (Domestic Ultimate Total)' and I have used log to transform the data and z score to remove the outliers"
      ]
    },
    {
      "cell_type": "code",
      "source": [
        "\n",
        "df_new = df.copy()"
      ],
      "metadata": {
        "id": "bFMeg9j5QaW7"
      },
      "execution_count": null,
      "outputs": []
    },
    {
      "cell_type": "code",
      "execution_count": null,
      "metadata": {
        "colab": {
          "base_uri": "https://localhost:8080/",
          "height": 581
        },
        "id": "Rl2ezeUINq5G",
        "outputId": "f1317d94-35e5-41c7-da74-ac3a214f2cb7"
      },
      "outputs": [
        {
          "output_type": "execute_result",
          "data": {
            "text/plain": [
              "Text(0.5, 1.0, 'Employees (Domestic Ultimate Total) - Before Removing Outliers')"
            ]
          },
          "metadata": {},
          "execution_count": 20
        },
        {
          "output_type": "display_data",
          "data": {
            "text/plain": [
              "<Figure size 1200x600 with 1 Axes>"
            ],
            "image/png": "[encoded data removed]"
          },
          "metadata": {}
        }
      ],
      "source": [
        "import pandas as pd\n",
        "import numpy as np\n",
        "df_new['log_value'] = np.log1p(df_new['Employees (Domestic Ultimate Total)'])\n",
        "df_new['z_score'] = stats.zscore(df_new['log_value'])\n",
        "df_new['is_outlier_z'] = df_new['z_score'].abs() > 3\n",
        "\n",
        "plt.figure(figsize=(12, 6))\n",
        "plt.subplot(1, 2, 1)  # First plot\n",
        "sns.boxplot(x=df_new['log_value'])\n",
        "plt.title('Employees (Domestic Ultimate Total) - Before Removing Outliers')"
      ]
    },
    {
      "cell_type": "code",
      "execution_count": null,
      "metadata": {
        "id": "O1jdDeVzNq1Z"
      },
      "outputs": [],
      "source": [
        "df_copy = df_new[~df_new['is_outlier_z']].copy()"
      ]
    },
    {
      "cell_type": "code",
      "execution_count": null,
      "metadata": {
        "id": "rS3q3T-QNqyS",
        "colab": {
          "base_uri": "https://localhost:8080/",
          "height": 472
        },
        "outputId": "3e0e697d-640f-43bb-b38e-fb765575175c"
      },
      "outputs": [
        {
          "output_type": "display_data",
          "data": {
            "text/plain": [
              "<Figure size 640x480 with 1 Axes>"
            ],
            "image/png": "[encoded data removed]"
          },
          "metadata": {}
        }
      ],
      "source": [
        "sns.boxplot(x=df_copy['log_value'],vert=False)\n",
        "plt.title('After Removing Outliers')\n",
        "plt.show()"
      ]
    },
    {
      "cell_type": "code",
      "source": [
        "outliers_df = df_new[df_new['is_outlier_z']]\n",
        "print(f\"Number of outliers removed: {len(outliers_df)}\")\n",
        "\n",
        "df_copy.drop(columns=['z_score', 'is_outlier_z','log_value'], inplace=True)"
      ],
      "metadata": {
        "id": "3NDhZk2u4957",
        "colab": {
          "base_uri": "https://localhost:8080/"
        },
        "outputId": "3001427c-dee8-4558-bde5-6cd1d778b911"
      },
      "execution_count": null,
      "outputs": [
        {
          "output_type": "stream",
          "name": "stdout",
          "text": [
            "Number of outliers removed: 228\n"
          ]
        }
      ]
    },
    {
      "cell_type": "code",
      "source": [
        "df_new = df_copy\n"
      ],
      "metadata": {
        "id": "jPZ46Fn16ILe"
      },
      "execution_count": null,
      "outputs": []
    },
    {
      "cell_type": "code",
      "source": [
        "df_new.shape"
      ],
      "metadata": {
        "id": "xZEi-wbt6QJN",
        "colab": {
          "base_uri": "https://localhost:8080/"
        },
        "outputId": "33870772-78ce-4ed8-fe8b-056465878aac"
      },
      "execution_count": null,
      "outputs": [
        {
          "output_type": "execute_result",
          "data": {
            "text/plain": [
              "(28404, 12)"
            ]
          },
          "metadata": {},
          "execution_count": 25
        }
      ]
    },
    {
      "cell_type": "code",
      "source": [
        "df_new['log_value'] = np.log1p(df_new['Employees (Global Ultimate Total)' ])\n",
        "df_new['z_score'] = stats.zscore(df_new['log_value'])\n",
        "df_new['is_outlier_z'] = df_new['z_score'].abs() > 3\n",
        "\n",
        "plt.figure(figsize=(12, 6))\n",
        "plt.subplot(1, 2, 1)  # First plot\n",
        "sns.boxplot(x=df_new['log_value'])\n",
        "plt.title('Before Removing Outliers')"
      ],
      "metadata": {
        "id": "327-oJPAPXHu",
        "colab": {
          "base_uri": "https://localhost:8080/",
          "height": 581
        },
        "outputId": "a9834a01-02d5-438d-8c1a-9651111b496b"
      },
      "execution_count": null,
      "outputs": [
        {
          "output_type": "execute_result",
          "data": {
            "text/plain": [
              "Text(0.5, 1.0, 'Before Removing Outliers')"
            ]
          },
          "metadata": {},
          "execution_count": 26
        },
        {
          "output_type": "display_data",
          "data": {
            "text/plain": [
              "<Figure size 1200x600 with 1 Axes>"
            ],
            "image/png": "[encoded data removed]"
          },
          "metadata": {}
        }
      ]
    },
    {
      "cell_type": "code",
      "source": [
        "df_copy = df_new[~df_new['is_outlier_z']].copy()"
      ],
      "metadata": {
        "id": "ZXnHghiuPXWy"
      },
      "execution_count": null,
      "outputs": []
    },
    {
      "cell_type": "code",
      "source": [
        "sns.boxplot(x=df_copy['log_value'],vert=False)\n",
        "plt.title('After Removing Outliers')\n",
        "plt.show()"
      ],
      "metadata": {
        "id": "_WZlJRcXPXim",
        "colab": {
          "base_uri": "https://localhost:8080/",
          "height": 472
        },
        "outputId": "12e2eac1-ba1a-4e9e-9ab8-c0ee8f4b55b8"
      },
      "execution_count": null,
      "outputs": [
        {
          "output_type": "display_data",
          "data": {
            "text/plain": [
              "<Figure size 640x480 with 1 Axes>"
            ],
            "image/png": "[encoded data removed]"
          },
          "metadata": {}
        }
      ]
    },
    {
      "cell_type": "code",
      "source": [
        "outliers_df = df_new[df_new['is_outlier_z']]\n",
        "print(f\"Number of outliers removed: {len(outliers_df)}\")\n",
        "\n",
        "df_copy.drop(columns=['z_score', 'is_outlier_z','log_value'], inplace=True)"
      ],
      "metadata": {
        "id": "WzatMR4IPXvN",
        "colab": {
          "base_uri": "https://localhost:8080/"
        },
        "outputId": "1509bc3d-4bab-456d-aa41-31a0b144b4a7"
      },
      "execution_count": null,
      "outputs": [
        {
          "output_type": "stream",
          "name": "stdout",
          "text": [
            "Number of outliers removed: 22\n"
          ]
        }
      ]
    },
    {
      "cell_type": "code",
      "source": [
        "df_new = df_copy"
      ],
      "metadata": {
        "id": "LbOc1w4IPX6m"
      },
      "execution_count": null,
      "outputs": []
    },
    {
      "cell_type": "code",
      "source": [
        "df_new.shape"
      ],
      "metadata": {
        "id": "VNG2bYDAPYFX",
        "colab": {
          "base_uri": "https://localhost:8080/"
        },
        "outputId": "c0721965-39ec-4d2b-cb04-a2b656673c5e"
      },
      "execution_count": null,
      "outputs": [
        {
          "output_type": "execute_result",
          "data": {
            "text/plain": [
              "(28382, 12)"
            ]
          },
          "metadata": {},
          "execution_count": 31
        }
      ]
    },
    {
      "cell_type": "code",
      "source": [
        "df_new['log_value'] = np.log1p(df_new['Sales (Domestic Ultimate Total USD)' ])\n",
        "df_new['z_score'] = stats.zscore(df_new['log_value'])\n",
        "df_new['is_outlier_z'] = df_new['z_score'].abs() > 3\n",
        "\n",
        "outliers_df = df_new[df_new['is_outlier_z']]\n",
        "print(f\"Number of outliers removed: {len(outliers_df)}\")\n",
        "\n",
        "df_copy.drop(columns=['z_score', 'is_outlier_z','log_value'], inplace=True)\n",
        "df_new = df_copy"
      ],
      "metadata": {
        "id": "2AuaHEBkPYOP",
        "colab": {
          "base_uri": "https://localhost:8080/"
        },
        "outputId": "77224dd3-38a7-4ab6-aca8-e2e55d063326"
      },
      "execution_count": null,
      "outputs": [
        {
          "output_type": "stream",
          "name": "stdout",
          "text": [
            "Number of outliers removed: 0\n"
          ]
        },
        {
          "output_type": "stream",
          "name": "stderr",
          "text": [
            "/usr/local/lib/python3.11/dist-packages/pandas/core/arraylike.py:399: RuntimeWarning: invalid value encountered in log1p\n",
            "  result = getattr(ufunc, method)(*inputs, **kwargs)\n"
          ]
        }
      ]
    },
    {
      "cell_type": "code",
      "source": [
        "df_new['log_value'] = np.log1p(df_new['Sales (Global Ultimate Total USD)'])\n",
        "df_new['z_score'] = stats.zscore(df_new['log_value'])\n",
        "df_new['is_outlier_z'] = df_new['z_score'].abs() > 3\n",
        "\n",
        "outliers_df = df_new[df_new['is_outlier_z']]\n",
        "print(f\"Number of outliers removed: {len(outliers_df)}\")\n",
        "\n",
        "df_copy.drop(columns=['z_score', 'is_outlier_z','log_value'], inplace=True)\n",
        "df_new = df_copy\n",
        "\n",
        "df = df_new"
      ],
      "metadata": {
        "id": "zGMbyLvDVJUa",
        "colab": {
          "base_uri": "https://localhost:8080/"
        },
        "outputId": "16f6164b-d4a1-40c2-fda0-709285f16c7b"
      },
      "execution_count": null,
      "outputs": [
        {
          "output_type": "stream",
          "name": "stdout",
          "text": [
            "Number of outliers removed: 6\n"
          ]
        }
      ]
    },
    {
      "cell_type": "code",
      "execution_count": null,
      "metadata": {
        "id": "_FBq-7mu48jY",
        "colab": {
          "base_uri": "https://localhost:8080/",
          "height": 482
        },
        "outputId": "355c72ea-ad5c-4bea-80bb-6096ea70a767"
      },
      "outputs": [
        {
          "output_type": "display_data",
          "data": {
            "text/plain": [
              "<Figure size 800x500 with 1 Axes>"
            ],
            "image/png": "[encoded data removed]"
          },
          "metadata": {}
        }
      ],
      "source": [
        "# Numerical vs Categorical\n",
        "\n",
        "# Bar chart for Is Domestic Ultimate vs Sales (Domestic Ultimate Total USD)\n",
        "aggregated_data = df.groupby('Is Domestic Ultimate')['Sales (Domestic Ultimate Total USD)'].sum()\n",
        "# aggregating Sales(Domestic Ultimate Total USD) by whether domestic is ultimate\n",
        "plt.figure(figsize=(8, 5))\n",
        "aggregated_data.plot(kind='bar', color='orange', alpha=0.7)\n",
        "plt.title('Is Domestic Ultimate vs Sales (Domestic Ultimate Total USD)')\n",
        "plt.ylabel('Sales ')\n",
        "plt.show()"
      ]
    },
    {
      "cell_type": "code",
      "execution_count": null,
      "metadata": {
        "id": "b3D9WOptLUGv",
        "colab": {
          "base_uri": "https://localhost:8080/",
          "height": 482
        },
        "outputId": "1d279213-bc10-448e-8d14-c5dcfb970f26"
      },
      "outputs": [
        {
          "output_type": "display_data",
          "data": {
            "text/plain": [
              "<Figure size 800x500 with 1 Axes>"
            ],
            "image/png": "[encoded data removed]"
          },
          "metadata": {}
        }
      ],
      "source": [
        "\n",
        "# Numerical vs Categorical\n",
        "\n",
        "# Bar chart for Is Domestic Ultimate vs Employees (Domestic Ultimate Total)\n",
        "aggregated_data = df.groupby('Is Domestic Ultimate')['Employees (Domestic Ultimate Total)'].sum()\n",
        "# aggregating Employees (Domestic Ultimate Total) by whether domestic is ultimate\n",
        "plt.figure(figsize=(8, 5))\n",
        "aggregated_data.plot(kind='bar', color='orange', alpha=0.7)\n",
        "plt.title('Is Domestic Ultimate vs Employees domestic')\n",
        "plt.ylabel('Employees domestic')\n",
        "plt.show()"
      ]
    },
    {
      "cell_type": "code",
      "execution_count": null,
      "metadata": {
        "id": "in-d6IjIL47V",
        "colab": {
          "base_uri": "https://localhost:8080/",
          "height": 482
        },
        "outputId": "a4101ac3-45e2-43c8-e7d7-ad574d935cd6"
      },
      "outputs": [
        {
          "output_type": "display_data",
          "data": {
            "text/plain": [
              "<Figure size 800x500 with 1 Axes>"
            ],
            "image/png": "[encoded data removed]"
          },
          "metadata": {}
        }
      ],
      "source": [
        "# Numerical vs Categorical\n",
        "\n",
        "# Bar chart for Is Global Ultimate vs Sales (Global Ultimate Total USD)\n",
        "aggregated_data = df.groupby('Is Global Ultimate')['Sales (Global Ultimate Total USD)'].sum()\n",
        "# aggregating Sales (Global Ultimate Total USD) by whether global is ultimate\n",
        "plt.figure(figsize=(8, 5))\n",
        "aggregated_data.plot(kind='bar', color='orange', alpha=0.7)\n",
        "plt.title('Is Global Ultimate vs Total Quantity Sold')\n",
        "plt.ylabel('Sales Global')\n",
        "plt.show()"
      ]
    },
    {
      "cell_type": "code",
      "source": [
        "# Bar chart for Is Global Ultimate vs Employee (Global Ultimate Total USD)\n",
        "aggregated_data = df.groupby('Is Global Ultimate')['Employees (Global Ultimate Total)'].sum()\n",
        "# aggregating Sales (Global Ultimate Total USD) by whether global is ultimate\n",
        "plt.figure(figsize=(8, 5))\n",
        "aggregated_data.plot(kind='bar', color='orange', alpha=0.7)\n",
        "plt.title('Is Global Ultimate vs Employees global')\n",
        "plt.ylabel('Employees global')\n",
        "plt.show()"
      ],
      "metadata": {
        "id": "QRsT0cQyiKZt",
        "colab": {
          "base_uri": "https://localhost:8080/",
          "height": 482
        },
        "outputId": "40292098-00b7-4c07-a877-c16a38a106f0"
      },
      "execution_count": null,
      "outputs": [
        {
          "output_type": "display_data",
          "data": {
            "text/plain": [
              "<Figure size 800x500 with 1 Axes>"
            ],
            "image/png": "[encoded data removed]"
          },
          "metadata": {}
        }
      ]
    },
    {
      "cell_type": "markdown",
      "metadata": {
        "id": "85p7Bwb-S0rE"
      },
      "source": [
        "# Data Preprocessing\n",
        "\n"
      ]
    },
    {
      "cell_type": "markdown",
      "metadata": {
        "id": "EedrtQFxMlGh"
      },
      "source": [
        "## Train-Test Split Validation\n"
      ]
    },
    {
      "cell_type": "code",
      "execution_count": null,
      "metadata": {
        "id": "pL67YA23PNJL",
        "colab": {
          "base_uri": "https://localhost:8080/"
        },
        "outputId": "a26fb2aa-e386-4c2d-9122-e68b11e555a7"
      },
      "outputs": [
        {
          "output_type": "stream",
          "name": "stdout",
          "text": [
            "Training set: (22705, 10) (22705, 2)\n",
            "Test set: (5677, 10) (5677, 2)\n"
          ]
        }
      ],
      "source": [
        "from sklearn.model_selection import train_test_split\n",
        "\n",
        "x = df.drop(columns=[\"Is Global Ultimate\", \"Is Domestic Ultimate\"])\n",
        "y = df[[\"Is Global Ultimate\", \"Is Domestic Ultimate\"]]\n",
        "\n",
        "#splitting into training (80%) and temporary set (20%)\n",
        "x_train, x_test, y_train, y_test = train_test_split(x, y, test_size=0.2, random_state=42, stratify=y)\n",
        "\n",
        "print(\"Training set:\", x_train.shape, y_train.shape)\n",
        "print(\"Test set:\", x_test.shape, y_test.shape)"
      ]
    },
    {
      "cell_type": "code",
      "execution_count": null,
      "metadata": {
        "id": "DxTnB_mTzMR6",
        "colab": {
          "base_uri": "https://localhost:8080/",
          "height": 327
        },
        "outputId": "4d9c4c08-cd68-43a0-eb67-ef66e286c637"
      },
      "outputs": [
        {
          "output_type": "execute_result",
          "data": {
            "text/plain": [
              "   Latitude   Longitude                                           Industry  \\\n",
              "0  1.238792  103.685898  Plastics Materials, Synthetic Resins, and Nonv...   \n",
              "1  1.240392  103.837565                  Offices of Bank Holding Companies   \n",
              "2  1.240392  103.837565                Investors, Not Elsewhere Classified   \n",
              "3  1.240409  103.837960  Offices of Holding Companies, Not Elsewhere Cl...   \n",
              "4  1.240784  103.839111                  Offices of Bank Holding Companies   \n",
              "\n",
              "   Year Found Ownership Type Company Status (Active/Inactive)  \\\n",
              "0        1980        Private                           Active   \n",
              "1        1993        Private                           Active   \n",
              "2        2018        Private                           Active   \n",
              "3        2004        Private                           Active   \n",
              "4        1986        Private                           Active   \n",
              "\n",
              "   Employees (Domestic Ultimate Total)  Employees (Global Ultimate Total)  \\\n",
              "0                                300.0                              300.0   \n",
              "1                                100.0                              100.0   \n",
              "2                                 22.0                               22.0   \n",
              "3                                100.0                              100.0   \n",
              "4                                 33.0                               33.0   \n",
              "\n",
              "   Sales (Domestic Ultimate Total USD)  Sales (Global Ultimate Total USD)  \n",
              "0                             76973100                           76973100  \n",
              "1                              9499251                            9499251  \n",
              "2                             13738494                           13738494  \n",
              "3                            103745791                          103745791  \n",
              "4                             60863682                           60863682  "
            ],
            "text/html": [
              "\n",
              "  <div id=\"df-87409da2-e92e-4fed-9e9b-82a6b845514a\" class=\"colab-df-container\">\n",
              "    <div>\n",
              "<style scoped>\n",
              "    .dataframe tbody tr th:only-of-type {\n",
              "        vertical-align: middle;\n",
              "    }\n",
              "\n",
              "    .dataframe tbody tr th {\n",
              "        vertical-align: top;\n",
              "    }\n",
              "\n",
              "    .dataframe thead th {\n",
              "        text-align: right;\n",
              "    }\n",
              "</style>\n",
              "<table border=\"1\" class=\"dataframe\">\n",
              "  <thead>\n",
              "    <tr style=\"text-align: right;\">\n",
              "      <th></th>\n",
              "      <th>Latitude</th>\n",
              "      <th>Longitude</th>\n",
              "      <th>Industry</th>\n",
              "      <th>Year Found</th>\n",
              "      <th>Ownership Type</th>\n",
              "      <th>Company Status (Active/Inactive)</th>\n",
              "      <th>Employees (Domestic Ultimate Total)</th>\n",
              "      <th>Employees (Global Ultimate Total)</th>\n",
              "      <th>Sales (Domestic Ultimate Total USD)</th>\n",
              "      <th>Sales (Global Ultimate Total USD)</th>\n",
              "    </tr>\n",
              "  </thead>\n",
              "  <tbody>\n",
              "    <tr>\n",
              "      <th>0</th>\n",
              "      <td>1.238792</td>\n",
              "      <td>103.685898</td>\n",
              "      <td>Plastics Materials, Synthetic Resins, and Nonv...</td>\n",
              "      <td>1980</td>\n",
              "      <td>Private</td>\n",
              "      <td>Active</td>\n",
              "      <td>300.0</td>\n",
              "      <td>300.0</td>\n",
              "      <td>76973100</td>\n",
              "      <td>76973100</td>\n",
              "    </tr>\n",
              "    <tr>\n",
              "      <th>1</th>\n",
              "      <td>1.240392</td>\n",
              "      <td>103.837565</td>\n",
              "      <td>Offices of Bank Holding Companies</td>\n",
              "      <td>1993</td>\n",
              "      <td>Private</td>\n",
              "      <td>Active</td>\n",
              "      <td>100.0</td>\n",
              "      <td>100.0</td>\n",
              "      <td>9499251</td>\n",
              "      <td>9499251</td>\n",
              "    </tr>\n",
              "    <tr>\n",
              "      <th>2</th>\n",
              "      <td>1.240392</td>\n",
              "      <td>103.837565</td>\n",
              "      <td>Investors, Not Elsewhere Classified</td>\n",
              "      <td>2018</td>\n",
              "      <td>Private</td>\n",
              "      <td>Active</td>\n",
              "      <td>22.0</td>\n",
              "      <td>22.0</td>\n",
              "      <td>13738494</td>\n",
              "      <td>13738494</td>\n",
              "    </tr>\n",
              "    <tr>\n",
              "      <th>3</th>\n",
              "      <td>1.240409</td>\n",
              "      <td>103.837960</td>\n",
              "      <td>Offices of Holding Companies, Not Elsewhere Cl...</td>\n",
              "      <td>2004</td>\n",
              "      <td>Private</td>\n",
              "      <td>Active</td>\n",
              "      <td>100.0</td>\n",
              "      <td>100.0</td>\n",
              "      <td>103745791</td>\n",
              "      <td>103745791</td>\n",
              "    </tr>\n",
              "    <tr>\n",
              "      <th>4</th>\n",
              "      <td>1.240784</td>\n",
              "      <td>103.839111</td>\n",
              "      <td>Offices of Bank Holding Companies</td>\n",
              "      <td>1986</td>\n",
              "      <td>Private</td>\n",
              "      <td>Active</td>\n",
              "      <td>33.0</td>\n",
              "      <td>33.0</td>\n",
              "      <td>60863682</td>\n",
              "      <td>60863682</td>\n",
              "    </tr>\n",
              "  </tbody>\n",
              "</table>\n",
              "</div>\n",
              "    <div class=\"colab-df-buttons\">\n",
              "\n",
              "  <div class=\"colab-df-container\">\n",
              "    <button class=\"colab-df-convert\" onclick=\"convertToInteractive('df-87409da2-e92e-4fed-9e9b-82a6b845514a')\"\n",
              "            title=\"Convert this dataframe to an interactive table.\"\n",
              "            style=\"display:none;\">\n",
              "\n",
              "  <svg xmlns=\"http://www.w3.org/2000/svg\" height=\"24px\" viewBox=\"0 -960 960 960\">\n",
              "    <path d=\"M120-120v-720h720v720H120Zm60-500h600v-160H180v160Zm220 220h160v-160H400v160Zm0 220h160v-160H400v160ZM180-400h160v-160H180v160Zm440 0h160v-160H620v160ZM180-180h160v-160H180v160Zm440 0h160v-160H620v160Z\"/>\n",
              "  </svg>\n",
              "    </button>\n",
              "\n",
              "  <style>\n",
              "    .colab-df-container {\n",
              "      display:flex;\n",
              "      gap: 12px;\n",
              "    }\n",
              "\n",
              "    .colab-df-convert {\n",
              "      background-color: #E8F0FE;\n",
              "      border: none;\n",
              "      border-radius: 50%;\n",
              "      cursor: pointer;\n",
              "      display: none;\n",
              "      fill: #1967D2;\n",
              "      height: 32px;\n",
              "      padding: 0 0 0 0;\n",
              "      width: 32px;\n",
              "    }\n",
              "\n",
              "    .colab-df-convert:hover {\n",
              "      background-color: #E2EBFA;\n",
              "      box-shadow: 0px 1px 2px rgba(60, 64, 67, 0.3), 0px 1px 3px 1px rgba(60, 64, 67, 0.15);\n",
              "      fill: #174EA6;\n",
              "    }\n",
              "\n",
              "    .colab-df-buttons div {\n",
              "      margin-bottom: 4px;\n",
              "    }\n",
              "\n",
              "    [theme=dark] .colab-df-convert {\n",
              "      background-color: #3B4455;\n",
              "      fill: #D2E3FC;\n",
              "    }\n",
              "\n",
              "    [theme=dark] .colab-df-convert:hover {\n",
              "      background-color: #434B5C;\n",
              "      box-shadow: 0px 1px 3px 1px rgba(0, 0, 0, 0.15);\n",
              "      filter: drop-shadow(0px 1px 2px rgba(0, 0, 0, 0.3));\n",
              "      fill: #FFFFFF;\n",
              "    }\n",
              "  </style>\n",
              "\n",
              "    <script>\n",
              "      const buttonEl =\n",
              "        document.querySelector('#df-87409da2-e92e-4fed-9e9b-82a6b845514a button.colab-df-convert');\n",
              "      buttonEl.style.display =\n",
              "        google.colab.kernel.accessAllowed ? 'block' : 'none';\n",
              "\n",
              "      async function convertToInteractive(key) {\n",
              "        const element = document.querySelector('#df-87409da2-e92e-4fed-9e9b-82a6b845514a');\n",
              "        const dataTable =\n",
              "          await google.colab.kernel.invokeFunction('convertToInteractive',\n",
              "                                                    [key], {});\n",
              "        if (!dataTable) return;\n",
              "\n",
              "        const docLinkHtml = 'Like what you see? Visit the ' +\n",
              "          '<a target=\"_blank\" href=https://colab.research.google.com/notebooks/data_table.ipynb>data table notebook</a>'\n",
              "          + ' to learn more about interactive tables.';\n",
              "        element.innerHTML = '';\n",
              "        dataTable['output_type'] = 'display_data';\n",
              "        await google.colab.output.renderOutput(dataTable, element);\n",
              "        const docLink = document.createElement('div');\n",
              "        docLink.innerHTML = docLinkHtml;\n",
              "        element.appendChild(docLink);\n",
              "      }\n",
              "    </script>\n",
              "  </div>\n",
              "\n",
              "\n",
              "<div id=\"df-cd852dc8-f570-4a88-8345-db22775c0309\">\n",
              "  <button class=\"colab-df-quickchart\" onclick=\"quickchart('df-cd852dc8-f570-4a88-8345-db22775c0309')\"\n",
              "            title=\"Suggest charts\"\n",
              "            style=\"display:none;\">\n",
              "\n",
              "<svg xmlns=\"http://www.w3.org/2000/svg\" height=\"24px\"viewBox=\"0 0 24 24\"\n",
              "     width=\"24px\">\n",
              "    <g>\n",
              "        <path d=\"M19 3H5c-1.1 0-2 .9-2 2v14c0 1.1.9 2 2 2h14c1.1 0 2-.9 2-2V5c0-1.1-.9-2-2-2zM9 17H7v-7h2v7zm4 0h-2V7h2v10zm4 0h-2v-4h2v4z\"/>\n",
              "    </g>\n",
              "</svg>\n",
              "  </button>\n",
              "\n",
              "<style>\n",
              "  .colab-df-quickchart {\n",
              "      --bg-color: #E8F0FE;\n",
              "      --fill-color: #1967D2;\n",
              "      --hover-bg-color: #E2EBFA;\n",
              "      --hover-fill-color: #174EA6;\n",
              "      --disabled-fill-color: #AAA;\n",
              "      --disabled-bg-color: #DDD;\n",
              "  }\n",
              "\n",
              "  [theme=dark] .colab-df-quickchart {\n",
              "      --bg-color: #3B4455;\n",
              "      --fill-color: #D2E3FC;\n",
              "      --hover-bg-color: #434B5C;\n",
              "      --hover-fill-color: #FFFFFF;\n",
              "      --disabled-bg-color: #3B4455;\n",
              "      --disabled-fill-color: #666;\n",
              "  }\n",
              "\n",
              "  .colab-df-quickchart {\n",
              "    background-color: var(--bg-color);\n",
              "    border: none;\n",
              "    border-radius: 50%;\n",
              "    cursor: pointer;\n",
              "    display: none;\n",
              "    fill: var(--fill-color);\n",
              "    height: 32px;\n",
              "    padding: 0;\n",
              "    width: 32px;\n",
              "  }\n",
              "\n",
              "  .colab-df-quickchart:hover {\n",
              "    background-color: var(--hover-bg-color);\n",
              "    box-shadow: 0 1px 2px rgba(60, 64, 67, 0.3), 0 1px 3px 1px rgba(60, 64, 67, 0.15);\n",
              "    fill: var(--button-hover-fill-color);\n",
              "  }\n",
              "\n",
              "  .colab-df-quickchart-complete:disabled,\n",
              "  .colab-df-quickchart-complete:disabled:hover {\n",
              "    background-color: var(--disabled-bg-color);\n",
              "    fill: var(--disabled-fill-color);\n",
              "    box-shadow: none;\n",
              "  }\n",
              "\n",
              "  .colab-df-spinner {\n",
              "    border: 2px solid var(--fill-color);\n",
              "    border-color: transparent;\n",
              "    border-bottom-color: var(--fill-color);\n",
              "    animation:\n",
              "      spin 1s steps(1) infinite;\n",
              "  }\n",
              "\n",
              "  @keyframes spin {\n",
              "    0% {\n",
              "      border-color: transparent;\n",
              "      border-bottom-color: var(--fill-color);\n",
              "      border-left-color: var(--fill-color);\n",
              "    }\n",
              "    20% {\n",
              "      border-color: transparent;\n",
              "      border-left-color: var(--fill-color);\n",
              "      border-top-color: var(--fill-color);\n",
              "    }\n",
              "    30% {\n",
              "      border-color: transparent;\n",
              "      border-left-color: var(--fill-color);\n",
              "      border-top-color: var(--fill-color);\n",
              "      border-right-color: var(--fill-color);\n",
              "    }\n",
              "    40% {\n",
              "      border-color: transparent;\n",
              "      border-right-color: var(--fill-color);\n",
              "      border-top-color: var(--fill-color);\n",
              "    }\n",
              "    60% {\n",
              "      border-color: transparent;\n",
              "      border-right-color: var(--fill-color);\n",
              "    }\n",
              "    80% {\n",
              "      border-color: transparent;\n",
              "      border-right-color: var(--fill-color);\n",
              "      border-bottom-color: var(--fill-color);\n",
              "    }\n",
              "    90% {\n",
              "      border-color: transparent;\n",
              "      border-bottom-color: var(--fill-color);\n",
              "    }\n",
              "  }\n",
              "</style>\n",
              "\n",
              "  <script>\n",
              "    async function quickchart(key) {\n",
              "      const quickchartButtonEl =\n",
              "        document.querySelector('#' + key + ' button');\n",
              "      quickchartButtonEl.disabled = true;  // To prevent multiple clicks.\n",
              "      quickchartButtonEl.classList.add('colab-df-spinner');\n",
              "      try {\n",
              "        const charts = await google.colab.kernel.invokeFunction(\n",
              "            'suggestCharts', [key], {});\n",
              "      } catch (error) {\n",
              "        console.error('Error during call to suggestCharts:', error);\n",
              "      }\n",
              "      quickchartButtonEl.classList.remove('colab-df-spinner');\n",
              "      quickchartButtonEl.classList.add('colab-df-quickchart-complete');\n",
              "    }\n",
              "    (() => {\n",
              "      let quickchartButtonEl =\n",
              "        document.querySelector('#df-cd852dc8-f570-4a88-8345-db22775c0309 button');\n",
              "      quickchartButtonEl.style.display =\n",
              "        google.colab.kernel.accessAllowed ? 'block' : 'none';\n",
              "    })();\n",
              "  </script>\n",
              "</div>\n",
              "\n",
              "    </div>\n",
              "  </div>\n"
            ],
            "application/vnd.google.colaboratory.intrinsic+json": {
              "type": "dataframe",
              "variable_name": "x",
              "summary": "{\n  \"name\": \"x\",\n  \"rows\": 28382,\n  \"fields\": [\n    {\n      \"column\": \"Latitude\",\n      \"properties\": {\n        \"dtype\": \"number\",\n        \"std\": 0.043758929131886344,\n        \"min\": 1.238792312,\n        \"max\": 1.469800148,\n        \"num_unique_values\": 9157,\n        \"samples\": [\n          1.293929422,\n          1.453890539,\n          1.304656989\n        ],\n        \"semantic_type\": \"\",\n        \"description\": \"\"\n      }\n    },\n    {\n      \"column\": \"Longitude\",\n      \"properties\": {\n        \"dtype\": \"number\",\n        \"std\": 0.05372965151688508,\n        \"min\": 103.611319,\n        \"max\": 104.0032182,\n        \"num_unique_values\": 9134,\n        \"samples\": [\n          103.843852,\n          103.8119526,\n          103.8055826\n        ],\n        \"semantic_type\": \"\",\n        \"description\": \"\"\n      }\n    },\n    {\n      \"column\": \"Industry\",\n      \"properties\": {\n        \"dtype\": \"category\",\n        \"num_unique_values\": 579,\n        \"samples\": [\n          \"Beauty Shops\",\n          \"Industrial Valves\",\n          \"Prefabricated Wood Buildings and Components\"\n        ],\n        \"semantic_type\": \"\",\n        \"description\": \"\"\n      }\n    },\n    {\n      \"column\": \"Year Found\",\n      \"properties\": {\n        \"dtype\": \"number\",\n        \"std\": 13,\n        \"min\": 1819,\n        \"max\": 2023,\n        \"num_unique_values\": 106,\n        \"samples\": [\n          1819,\n          2013,\n          1986\n        ],\n        \"semantic_type\": \"\",\n        \"description\": \"\"\n      }\n    },\n    {\n      \"column\": \"Ownership Type\",\n      \"properties\": {\n        \"dtype\": \"category\",\n        \"num_unique_values\": 6,\n        \"samples\": [\n          \"Private\",\n          \"Public\",\n          \"Nonprofit\"\n        ],\n        \"semantic_type\": \"\",\n        \"description\": \"\"\n      }\n    },\n    {\n      \"column\": \"Company Status (Active/Inactive)\",\n      \"properties\": {\n        \"dtype\": \"category\",\n        \"num_unique_values\": 1,\n        \"samples\": [\n          \"Active\"\n        ],\n        \"semantic_type\": \"\",\n        \"description\": \"\"\n      }\n    },\n    {\n      \"column\": \"Employees (Domestic Ultimate Total)\",\n      \"properties\": {\n        \"dtype\": \"number\",\n        \"std\": 196.67235486367557,\n        \"min\": 1.0,\n        \"max\": 2000.0,\n        \"num_unique_values\": 348,\n        \"samples\": [\n          79.0\n        ],\n        \"semantic_type\": \"\",\n        \"description\": \"\"\n      }\n    },\n    {\n      \"column\": \"Employees (Global Ultimate Total)\",\n      \"properties\": {\n        \"dtype\": \"number\",\n        \"std\": 31781.199967496243,\n        \"min\": 1.0,\n        \"max\": 570060.0,\n        \"num_unique_values\": 1980,\n        \"samples\": [\n          17533.0\n        ],\n        \"semantic_type\": \"\",\n        \"description\": \"\"\n      }\n    },\n    {\n      \"column\": \"Sales (Domestic Ultimate Total USD)\",\n      \"properties\": {\n        \"dtype\": \"number\",\n        \"std\": 10331007254,\n        \"min\": -150263100,\n        \"max\": 318476400000,\n        \"num_unique_values\": 8227,\n        \"samples\": [\n          4485888\n        ],\n        \"semantic_type\": \"\",\n        \"description\": \"\"\n      }\n    },\n    {\n      \"column\": \"Sales (Global Ultimate Total USD)\",\n      \"properties\": {\n        \"dtype\": \"number\",\n        \"std\": 18812393032,\n        \"min\": 1,\n        \"max\": 413680000000,\n        \"num_unique_values\": 7473,\n        \"samples\": [\n          662064\n        ],\n        \"semantic_type\": \"\",\n        \"description\": \"\"\n      }\n    }\n  ]\n}"
            }
          },
          "metadata": {},
          "execution_count": 54
        }
      ],
      "source": [
        "x.head()"
      ]
    },
    {
      "cell_type": "markdown",
      "metadata": {
        "id": "2ef86ehVd5Pf"
      },
      "source": [
        "##Scaling numerical data and encoding categorical data\n",
        "\n",
        "\n"
      ]
    },
    {
      "cell_type": "code",
      "execution_count": null,
      "metadata": {
        "id": "DTj2GJstdI-f"
      },
      "outputs": [],
      "source": [
        "from sklearn.compose import ColumnTransformer\n",
        "from sklearn.preprocessing import OneHotEncoder, StandardScaler\n",
        "\n",
        "numeric_columns = x.select_dtypes(include=[\"number\"]).columns\n",
        "categorical_columns = x.select_dtypes(exclude=[\"number\"]).columns\n",
        "\n",
        "# Preprocessing pipeline\n",
        "preprocessor = ColumnTransformer(\n",
        "    transformers=[\n",
        "        (\"num\", StandardScaler(), numeric_columns),\n",
        "        (\"cat\", OneHotEncoder(handle_unknown=\"ignore\"), categorical_columns),\n",
        "    ]\n",
        ")\n",
        "\n",
        "# Apply preprocessing to training, and test sets\n",
        "x_train_preprocessed = preprocessor.fit_transform(x_train)\n",
        "x_test_preprocessed = preprocessor.transform(x_test)\n"
      ]
    },
    {
      "cell_type": "markdown",
      "metadata": {
        "id": "Zojb5hhiMfWO"
      },
      "source": [
        "##Checking Class Balance of \"Is Domestic Ultimate\" and \"Is Global Ultimate\""
      ]
    },
    {
      "cell_type": "code",
      "execution_count": null,
      "metadata": {
        "id": "y77hCMUqS3Ol",
        "colab": {
          "base_uri": "https://localhost:8080/",
          "height": 803
        },
        "outputId": "b9124020-930f-4bbe-f5be-8b61db69b8c8"
      },
      "outputs": [
        {
          "output_type": "display_data",
          "data": {
            "text/plain": [
              "<Figure size 600x400 with 1 Axes>"
            ],
            "image/png": "[encoded data removed]"
          },
          "metadata": {}
        },
        {
          "output_type": "display_data",
          "data": {
            "text/plain": [
              "<Figure size 600x400 with 1 Axes>"
            ],
            "image/png": "[encoded data removed]"
          },
          "metadata": {}
        }
      ],
      "source": [
        "import seaborn as sns\n",
        "\n",
        "# Count plot for 'Is Domestic Ultimate'\n",
        "plt.figure(figsize=(6,4))\n",
        "sns.countplot(x=df[\"Is Domestic Ultimate\"])\n",
        "plt.title(\"Class Distribution: Is Domestic Ultimate\")\n",
        "plt.show()\n",
        "\n",
        "# Count plot for 'Is Global Ultimate'\n",
        "plt.figure(figsize=(6,4))\n",
        "sns.countplot(x=df[\"Is Global Ultimate\"])\n",
        "plt.title(\"Class Distribution: Is Global Ultimate\")\n",
        "plt.show()\n"
      ]
    },
    {
      "cell_type": "markdown",
      "metadata": {
        "id": "aJOSW6KSVyPR"
      },
      "source": [
        "#### The class distribution for \"Is Domestic Ultimate\" is balanced while the class distribution for \"Is Global Ultimate\" is imbalanced with class \"0\" outnumbering class \"1\" significantly. Hence, classweights is used to balance the classes only for the \"Is Global Ultimate\" Models and separate models are used.\n"
      ]
    },
    {
      "cell_type": "markdown",
      "metadata": {
        "id": "MOaAyJd1zMR6"
      },
      "source": [
        "# Models"
      ]
    },
    {
      "cell_type": "markdown",
      "metadata": {
        "id": "wgCbjgoNzMR7"
      },
      "source": [
        "## Random Forest Model: \"Is Domestic Ultimate\"\n"
      ]
    },
    {
      "cell_type": "code",
      "execution_count": null,
      "metadata": {
        "id": "sjP3Zfl77q5c"
      },
      "outputs": [],
      "source": [
        "from sklearn.ensemble import RandomForestClassifier\n"
      ]
    },
    {
      "cell_type": "code",
      "execution_count": null,
      "metadata": {
        "id": "YiYF36GOzMR7",
        "colab": {
          "base_uri": "https://localhost:8080/"
        },
        "outputId": "4474eec2-64a9-488a-9888-36c20e26f3a3"
      },
      "outputs": [
        {
          "output_type": "stream",
          "name": "stdout",
          "text": [
            "Classification Report:\n",
            "              precision    recall  f1-score   support\n",
            "\n",
            "           0       0.81      0.76      0.79      2809\n",
            "           1       0.78      0.82      0.80      2868\n",
            "\n",
            "    accuracy                           0.79      5677\n",
            "   macro avg       0.80      0.79      0.79      5677\n",
            "weighted avg       0.80      0.79      0.79      5677\n",
            "\n"
          ]
        }
      ],
      "source": [
        "model_dom = RandomForestClassifier(n_estimators=200, random_state=42)\n",
        "model_dom.fit(x_train_preprocessed, y_train['Is Domestic Ultimate'])\n",
        "\n",
        "# Evaluate the model\n",
        "y_pred = model_dom.predict(x_test_preprocessed)\n",
        "print(\"Classification Report:\")\n",
        "from sklearn.metrics import classification_report\n",
        "print(classification_report(y_test['Is Domestic Ultimate'], y_pred))\n"
      ]
    },
    {
      "cell_type": "code",
      "execution_count": null,
      "metadata": {
        "id": "BmZnQ33N-Ka3",
        "colab": {
          "base_uri": "https://localhost:8080/",
          "height": 803
        },
        "outputId": "7a2fbf21-001b-4409-a769-0e47c0daba9a"
      },
      "outputs": [
        {
          "output_type": "display_data",
          "data": {
            "text/plain": [
              "<Figure size 600x400 with 2 Axes>"
            ],
            "image/png": "[encoded data removed]"
          },
          "metadata": {}
        },
        {
          "output_type": "display_data",
          "data": {
            "text/plain": [
              "<Figure size 600x400 with 1 Axes>"
            ],
            "image/png": "[encoded data removed]"
          },
          "metadata": {}
        }
      ],
      "source": [
        "from sklearn.metrics import confusion_matrix, roc_curve, auc, precision_recall_curve\n",
        "\n",
        "# Generate predictions and probabilities\n",
        "y_pred_rf = model_dom.predict(x_test_preprocessed)\n",
        "y_probs_rf = model_dom.predict_proba(x_test_preprocessed)[:, 1]  # Probabilities for the positive class\n",
        "\n",
        "# Confusion Matrix\n",
        "cm_rf = confusion_matrix(y_test['Is Domestic Ultimate'], y_pred_rf)\n",
        "\n",
        "plt.figure(figsize=(6, 4))\n",
        "sns.heatmap(cm_rf, annot=True, fmt=\"d\", cmap=\"Blues\", xticklabels=[\"Negative\", \"Positive\"], yticklabels=[\"Negative\", \"Positive\"])\n",
        "plt.xlabel(\"Predicted\")\n",
        "plt.ylabel(\"Actual\")\n",
        "plt.title(\"Confusion Matrix for Random Forest (Is Domestic Ultimate)\")\n",
        "plt.show()\n",
        "\n",
        "# ROC Curve\n",
        "fpr_rf, tpr_rf, _ = roc_curve(y_test['Is Domestic Ultimate'], y_probs_rf)\n",
        "roc_auc_rf = auc(fpr_rf, tpr_rf)\n",
        "\n",
        "plt.figure(figsize=(6, 4))\n",
        "plt.plot(fpr_rf, tpr_rf, color='blue', lw=2, label=f'ROC Curve (AUC = {roc_auc_rf:.2f})')\n",
        "plt.plot([0, 1], [0, 1], color='gray', linestyle='--')\n",
        "plt.xlabel(\"False Positive Rate\")\n",
        "plt.ylabel(\"True Positive Rate\")\n",
        "plt.title(\"ROC Curve for Random Forest (Is Domestic Ultimate)\")\n",
        "plt.legend()\n",
        "plt.show()"
      ]
    },
    {
      "cell_type": "code",
      "source": [
        "# Get feature importances from Random Forest Model: \"Is Domestic Ultimate\"\n",
        "\n",
        "feature_importances = model_dom.feature_importances_\n",
        "\n",
        "numeric_features = numeric_columns.tolist()\n",
        "categorical_features = categorical_columns.tolist()\n",
        "\n",
        "# Extract the one-hot encoded feature names from the preprocessor\n",
        "encoded_feature_names = preprocessor.named_transformers_['cat'].get_feature_names_out(categorical_features)\n",
        "\n",
        "all_feature_names = numeric_features + list(encoded_feature_names)\n",
        "importance_df = pd.DataFrame({\n",
        "    'Feature': all_feature_names,\n",
        "    'Importance': feature_importances\n",
        "})\n",
        "\n",
        "for cat in categorical_features:\n",
        "    matching_features = [col for col in importance_df['Feature'] if col.startswith(cat + '_')]\n",
        "    if matching_features:\n",
        "        total_importance = importance_df.loc[importance_df['Feature'].isin(matching_features), 'Importance'].sum()\n",
        "        importance_df = importance_df[~importance_df['Feature'].isin(matching_features)]\n",
        "        importance_df = pd.concat([importance_df, pd.DataFrame({'Feature': [cat], 'Importance': [total_importance]})])\n",
        "\n",
        "importance_df = importance_df.sort_values(by='Importance', ascending=False)\n",
        "importance_df.reset_index(drop=True, inplace=True)\n",
        "print(importance_df)"
      ],
      "metadata": {
        "id": "Lsbkp74sVS0p",
        "colab": {
          "base_uri": "https://localhost:8080/"
        },
        "outputId": "b933121b-8384-4c26-c6fe-13afe816ee03"
      },
      "execution_count": null,
      "outputs": [
        {
          "output_type": "stream",
          "name": "stdout",
          "text": [
            "                               Feature  Importance\n",
            "0                             Industry    0.223262\n",
            "1  Sales (Domestic Ultimate Total USD)    0.117743\n",
            "2    Employees (Global Ultimate Total)    0.114243\n",
            "3                             Latitude    0.112067\n",
            "4  Employees (Domestic Ultimate Total)    0.110022\n",
            "5                            Longitude    0.108445\n",
            "6                           Year Found    0.104177\n",
            "7    Sales (Global Ultimate Total USD)    0.099452\n",
            "8                       Ownership Type    0.010589\n",
            "9     Company Status (Active/Inactive)    0.000000\n"
          ]
        }
      ]
    },
    {
      "cell_type": "markdown",
      "metadata": {
        "id": "PzYKNbCkzMR7"
      },
      "source": [
        "## Random Forest Model: \"Is Global Ultimate\""
      ]
    },
    {
      "cell_type": "code",
      "execution_count": null,
      "metadata": {
        "id": "9EM2zOqNzMR7",
        "colab": {
          "base_uri": "https://localhost:8080/"
        },
        "outputId": "9f4a81e4-fa2c-46cf-fba3-f6506f22ec92"
      },
      "outputs": [
        {
          "output_type": "stream",
          "name": "stdout",
          "text": [
            "Classification Report:\n",
            "              precision    recall  f1-score   support\n",
            "\n",
            "           0       0.93      0.84      0.88      4201\n",
            "           1       0.65      0.82      0.72      1476\n",
            "\n",
            "    accuracy                           0.84      5677\n",
            "   macro avg       0.79      0.83      0.80      5677\n",
            "weighted avg       0.86      0.84      0.84      5677\n",
            "\n"
          ]
        }
      ],
      "source": [
        "# Apply classweights\n",
        "model_global = RandomForestClassifier(class_weight=\"balanced\", max_features=None,\n",
        "                       min_samples_leaf=4, min_samples_split=5,\n",
        "                       n_estimators=200, random_state=42)\n",
        "model_global.fit(x_train_preprocessed, y_train['Is Global Ultimate'])\n",
        "\n",
        "# Evaluate the model\n",
        "y_pred = model_global.predict(x_test_preprocessed)\n",
        "print(\"Classification Report:\")\n",
        "from sklearn.metrics import classification_report\n",
        "print(classification_report(y_test['Is Global Ultimate'], y_pred))\n",
        "\n"
      ]
    },
    {
      "cell_type": "code",
      "execution_count": null,
      "metadata": {
        "id": "UqgU27o1_Btl",
        "colab": {
          "base_uri": "https://localhost:8080/",
          "height": 803
        },
        "outputId": "aa18ff65-9acc-4c15-e94c-1d65e1048768"
      },
      "outputs": [
        {
          "output_type": "display_data",
          "data": {
            "text/plain": [
              "<Figure size 600x400 with 2 Axes>"
            ],
            "image/png": "[encoded data removed]"
          },
          "metadata": {}
        },
        {
          "output_type": "display_data",
          "data": {
            "text/plain": [
              "<Figure size 600x400 with 1 Axes>"
            ],
            "image/png": "[encoded data removed]"
          },
          "metadata": {}
        }
      ],
      "source": [
        "from sklearn.metrics import confusion_matrix, roc_curve, auc, precision_recall_curve\n",
        "\n",
        "# Generate predictions and probabilities\n",
        "y_pred_rf = model_global.predict(x_test_preprocessed)\n",
        "y_probs_rf = model_global.predict_proba(x_test_preprocessed)[:, 1]  # Probabilities for the positive class\n",
        "\n",
        "# Confusion Matrix\n",
        "cm_rf = confusion_matrix(y_test['Is Global Ultimate'], y_pred_rf)\n",
        "\n",
        "plt.figure(figsize=(6, 4))\n",
        "sns.heatmap(cm_rf, annot=True, fmt=\"d\", cmap=\"Blues\", xticklabels=[\"Negative\", \"Positive\"], yticklabels=[\"Negative\", \"Positive\"])\n",
        "plt.xlabel(\"Predicted\")\n",
        "plt.ylabel(\"Actual\")\n",
        "plt.title(\"Confusion Matrix for Random Forest (Is Global Ultimate)\")\n",
        "plt.show()\n",
        "\n",
        "# ROC Curve\n",
        "fpr_rf, tpr_rf, _ = roc_curve(y_test['Is Global Ultimate'], y_probs_rf)\n",
        "roc_auc_rf = auc(fpr_rf, tpr_rf)\n",
        "\n",
        "plt.figure(figsize=(6, 4))\n",
        "plt.plot(fpr_rf, tpr_rf, color='blue', lw=2, label=f'ROC Curve (AUC = {roc_auc_rf:.2f})')\n",
        "plt.plot([0, 1], [0, 1], color='gray', linestyle='--')\n",
        "plt.xlabel(\"False Positive Rate\")\n",
        "plt.ylabel(\"True Positive Rate\")\n",
        "plt.title(\"ROC Curve for Random Forest (Is Global Ultimate)\")\n",
        "plt.legend()\n",
        "plt.show()"
      ]
    },
    {
      "cell_type": "code",
      "source": [
        "# Get feature importances from Random Forest Model: \"Is Global Ultimate\"\n",
        "\n",
        "feature_importances = model_global.feature_importances_\n",
        "\n",
        "numeric_features = numeric_columns.tolist()\n",
        "categorical_features = categorical_columns.tolist()\n",
        "\n",
        "# Extract the one-hot encoded feature names from the preprocessor\n",
        "encoded_feature_names = preprocessor.named_transformers_['cat'].get_feature_names_out(categorical_features)\n",
        "\n",
        "all_feature_names = numeric_features + list(encoded_feature_names)\n",
        "importance_df = pd.DataFrame({\n",
        "    'Feature': all_feature_names,\n",
        "    'Importance': feature_importances\n",
        "})\n",
        "\n",
        "for cat in categorical_features:\n",
        "    matching_features = [col for col in importance_df['Feature'] if col.startswith(cat + '_')]\n",
        "    if matching_features:\n",
        "        total_importance = importance_df.loc[importance_df['Feature'].isin(matching_features), 'Importance'].sum()\n",
        "        importance_df = importance_df[~importance_df['Feature'].isin(matching_features)]\n",
        "        importance_df = pd.concat([importance_df, pd.DataFrame({'Feature': [cat], 'Importance': [total_importance]})])\n",
        "\n",
        "importance_df = importance_df.sort_values(by='Importance', ascending=False)\n",
        "importance_df.reset_index(drop=True, inplace=True)\n",
        "print(importance_df)"
      ],
      "metadata": {
        "id": "mJ7v1FihU_Ce",
        "colab": {
          "base_uri": "https://localhost:8080/"
        },
        "outputId": "a17a4e3a-4503-489a-e9bd-dc80a7a91811"
      },
      "execution_count": null,
      "outputs": [
        {
          "output_type": "stream",
          "name": "stdout",
          "text": [
            "                               Feature  Importance\n",
            "0    Employees (Global Ultimate Total)    0.293205\n",
            "1  Sales (Domestic Ultimate Total USD)    0.126384\n",
            "2                             Industry    0.111122\n",
            "3    Sales (Global Ultimate Total USD)    0.105164\n",
            "4                             Latitude    0.092344\n",
            "5                           Year Found    0.090837\n",
            "6  Employees (Domestic Ultimate Total)    0.076268\n",
            "7                            Longitude    0.071141\n",
            "8                       Ownership Type    0.033535\n",
            "9     Company Status (Active/Inactive)    0.000000\n"
          ]
        }
      ]
    }
  ],
  "metadata": {
    "colab": {
      "provenance": []
    },
    "kernelspec": {
      "display_name": "Python 3",
      "name": "python3"
    },
    "language_info": {
      "codemirror_mode": {
        "name": "ipython",
        "version": 3
      },
      "file_extension": ".py",
      "mimetype": "text/x-python",
      "name": "python",
      "nbconvert_exporter": "python",
      "pygments_lexer": "ipython3",
      "version": "3.10.11"
    }
  },
  "nbformat": 4,
  "nbformat_minor": 0
}